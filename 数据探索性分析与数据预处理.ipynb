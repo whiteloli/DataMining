{
 "cells": [
  {
   "cell_type": "code",
   "execution_count": 1,
   "id": "83cab9ce",
   "metadata": {},
   "outputs": [],
   "source": [
    "import numpy as np\n",
    "import matplotlib\n",
    "import pandas as pd\n",
    "from sklearn.neighbors import KNeighborsClassifier, KNeighborsRegressor"
   ]
  },
  {
   "cell_type": "code",
   "execution_count": 2,
   "id": "d476a536",
   "metadata": {},
   "outputs": [
    {
     "name": "stdout",
     "output_type": "stream",
     "text": [
      "<class 'pandas.core.frame.DataFrame'>\n",
      "RangeIndex: 2917951 entries, 0 to 2917950\n",
      "Data columns (total 10 columns):\n",
      " #   Column            Dtype  \n",
      "---  ------            -----  \n",
      " 0   name              object \n",
      " 1   stars_count       int64  \n",
      " 2   forks_count       int64  \n",
      " 3   watchers          int64  \n",
      " 4   pull_requests     int64  \n",
      " 5   primary_language  object \n",
      " 6   languages_used    object \n",
      " 7   commit_count      float64\n",
      " 8   created_at        object \n",
      " 9   licence           object \n",
      "dtypes: float64(1), int64(4), object(5)\n",
      "memory usage: 222.6+ MB\n"
     ]
    }
   ],
   "source": [
    "## 自行选择2个数据集进行探索性分析与预处理\n",
    "# 加载数据集\n",
    "data = pd.read_csv(r\"D:\\数据挖掘\\GitHub Dataset\\repository_data.csv\") # 第一个数据集选择GitHub Dataset\n",
    "\n",
    "# 查看数据的总体情况\n",
    "data.info()"
   ]
  },
  {
   "cell_type": "code",
   "execution_count": 3,
   "id": "fa0caaee",
   "metadata": {},
   "outputs": [],
   "source": [
    "# 共有2917951条数据，每个数据有5个标称属性和5个数值属性"
   ]
  },
  {
   "cell_type": "code",
   "execution_count": 4,
   "id": "ea4d08f7",
   "metadata": {},
   "outputs": [
    {
     "name": "stdout",
     "output_type": "stream",
     "text": [
      "name\n",
      "dotfiles                                 5590\n",
      "blog                                     2038\n",
      "docs                                     1350\n",
      "website                                  1163\n",
      "scripts                                   649\n",
      "                                         ... \n",
      "markdown-to-presentation                    1\n",
      "moodle-client                               1\n",
      "event-sourcing-graph                        1\n",
      "react-native-100-Demos                      1\n",
      "MSI-Z690-Carbon-i7-12700KF-Hackintosh       1\n",
      "Name: count, Length: 2410862, dtype: int64\n",
      "primary_language\n",
      "JavaScript              451954\n",
      "Python                  451473\n",
      "Java                    202394\n",
      "C++                     150066\n",
      "PHP                     116058\n",
      "                         ...  \n",
      "LoomScript                   1\n",
      "Ragel in Ruby Host           1\n",
      "Edje Data Collection         1\n",
      "Sieve                        1\n",
      "Ox                           1\n",
      "Name: count, Length: 497, dtype: int64\n",
      "languages_used\n",
      "['Python']                                                        257679\n",
      "['JavaScript']                                                    157741\n",
      "['Java']                                                          117624\n",
      "['C#']                                                             60299\n",
      "['PHP']                                                            56333\n",
      "                                                                   ...  \n",
      "['Svelte', 'TypeScript', 'JavaScript', 'HTML', 'CSS', 'Rust']          1\n",
      "['Dockerfile', 'Shell', 'JavaScript', 'PowerShell']                    1\n",
      "['TypeScript', 'HTML', 'Vue', 'JavaScript', 'Python', 'Shell']         1\n",
      "['C++', 'C', 'Pascal', 'Batchfile', 'GDB']                             1\n",
      "['HTML', 'C++', 'TypeScript', 'JavaScript']                            1\n",
      "Name: count, Length: 328148, dtype: int64\n",
      "created_at\n",
      "2017-06-05T20:53:54Z    10\n",
      "2017-06-05T20:53:58Z     9\n",
      "2014-01-17T08:00:09Z     8\n",
      "2010-05-26T23:38:08Z     7\n",
      "2019-03-29T08:13:35Z     7\n",
      "                        ..\n",
      "2017-09-04T07:45:10Z     1\n",
      "2017-08-21T11:35:16Z     1\n",
      "2017-08-09T00:50:43Z     1\n",
      "2017-10-07T13:05:26Z     1\n",
      "2022-01-22T00:00:12Z     1\n",
      "Name: count, Length: 2837008, dtype: int64\n",
      "licence\n",
      "MIT License                                                   784251\n",
      "Apache License 2.0                                            210698\n",
      "Other                                                         167987\n",
      "GNU General Public License v3.0                               159443\n",
      "BSD 3-Clause \"New\" or \"Revised\" License                        47078\n",
      "GNU General Public License v2.0                                43297\n",
      "GNU Affero General Public License v3.0                         21554\n",
      "BSD 2-Clause \"Simplified\" License                              16819\n",
      "The Unlicense                                                  14400\n",
      "GNU Lesser General Public License v3.0                         14002\n",
      "Mozilla Public License 2.0                                     10668\n",
      "Creative Commons Zero v1.0 Universal                           10353\n",
      "ISC License                                                     8232\n",
      "GNU Lesser General Public License v2.1                          6168\n",
      "Eclipse Public License 1.0                                      3699\n",
      "Do What The F*ck You Want To Public License                     3493\n",
      "Creative Commons Attribution 4.0 International                  3292\n",
      "Creative Commons Attribution Share Alike 4.0 International      2664\n",
      "MIT No Attribution                                              2193\n",
      "zlib License                                                    1512\n",
      "Boost Software License 1.0                                      1421\n",
      "Eclipse Public License 2.0                                      1206\n",
      "BSD Zero Clause License                                          770\n",
      "SIL Open Font License 1.1                                        761\n",
      "Artistic License 2.0                                             685\n",
      "Open Software License 3.0                                        644\n",
      "Microsoft Public License                                         470\n",
      "European Union Public License 1.2                                429\n",
      "BSD 3-Clause Clear License                                       295\n",
      "LaTeX Project Public License v1.3c                               266\n",
      "BSD 4-Clause \"Original\" or \"Old\" License                         251\n",
      "Universal Permissive License v1.0                                193\n",
      "Academic Free License v3.0                                       143\n",
      "European Union Public License 1.1                                 93\n",
      "University of Illinois/NCSA Open Source License                   90\n",
      "PostgreSQL License                                                66\n",
      "Open Data Commons Open Database License v1.0                      57\n",
      "Educational Community License v2.0                                25\n",
      "Mulan Permissive Software License, Version 2                      20\n",
      "Vim License                                                       20\n",
      "CeCILL Free Software License Agreement v2.1                       19\n",
      "Microsoft Reciprocal License                                      15\n",
      "CERN Open Hardware Licence Version 2 - Permissive                  4\n",
      "CERN Open Hardware Licence Version 2 - Strongly Reciprocal         2\n",
      "CERN Open Hardware Licence Version 2 - Weakly Reciprocal           2\n",
      "GNU Free Documentation License v1.3                                1\n",
      "Name: count, dtype: int64\n"
     ]
    }
   ],
   "source": [
    "## 数据摘要\n",
    "# 给出标称属性每个可能取值的频数\n",
    "for i in data.columns:\n",
    "    if data[i].dtype == object:\n",
    "        print(data[i].value_counts())"
   ]
  },
  {
   "cell_type": "code",
   "execution_count": 5,
   "id": "b474bf9e",
   "metadata": {},
   "outputs": [
    {
     "name": "stdout",
     "output_type": "stream",
     "text": [
      "stars_count\n",
      "null count:0\n",
      "max:359805 q3:30.0 median:12.0 q1:7.0 min:2\n",
      "forks_count\n",
      "null count:0\n",
      "max:242208 q3:11.0 median:4.0 q1:1.0 min:0\n",
      "watchers\n",
      "null count:0\n",
      "max:9544 q3:6.0 median:3.0 q1:2.0 min:0\n",
      "pull_requests\n",
      "null count:0\n",
      "max:301585 q3:6.0 median:1.0 q1:0.0 min:0\n",
      "commit_count\n",
      "null count:1921\n",
      "max:4314502.0 q3:89.0 median:27.0 q1:9.0 min:1.0\n"
     ]
    }
   ],
   "source": [
    "# 给出数值属性的5数概括及缺失值的个数\n",
    "for i in data.columns:\n",
    "    if data[i].dtype in [ np.int64, np.float64 ]:\n",
    "        print(data[i].name)\n",
    "        print(\"null count:{}\".format(data[i].isnull().sum()))\n",
    "        maximum=max(data[i])\n",
    "        q3=data[i].quantile(.75)\n",
    "        median=data[i].median()\n",
    "        q1=data[i].quantile(.25)\n",
    "        minimum=min(data[i])\n",
    "        print(\"max:{} q3:{} median:{} q1:{} min:{}\".format(maximum, q3, median, q1, minimum))"
   ]
  },
  {
   "cell_type": "code",
   "execution_count": 6,
   "id": "f397718e",
   "metadata": {},
   "outputs": [],
   "source": [
    "# 有缺失值的数值属性仅有commit_count，共有1921条数据的commit_count值缺失"
   ]
  },
  {
   "cell_type": "code",
   "execution_count": 7,
   "id": "e76bc692",
   "metadata": {},
   "outputs": [
    {
     "data": {
      "text/plain": [
       "<Axes: >"
      ]
     },
     "execution_count": 7,
     "metadata": {},
     "output_type": "execute_result"
    },
    {
     "data": {
      "image/png": "[encoded data removed]",
      "text/plain": [
       "<Figure size 640x480 with 1 Axes>"
      ]
     },
     "metadata": {},
     "output_type": "display_data"
    }
   ],
   "source": [
    "## 数据可视化\n",
    "# 直方图\n",
    "data[\"stars_count\"].hist(bins=12)"
   ]
  },
  {
   "cell_type": "code",
   "execution_count": 8,
   "id": "462d6091",
   "metadata": {},
   "outputs": [
    {
     "data": {
      "text/plain": [
       "<Axes: >"
      ]
     },
     "execution_count": 8,
     "metadata": {},
     "output_type": "execute_result"
    },
    {
     "data": {
      "image/png": "[encoded data removed]",
      "text/plain": [
       "<Figure size 640x480 with 1 Axes>"
      ]
     },
     "metadata": {},
     "output_type": "display_data"
    }
   ],
   "source": [
    "data[\"forks_count\"].hist(bins=12)"
   ]
  },
  {
   "cell_type": "code",
   "execution_count": 9,
   "id": "a1b87f9f",
   "metadata": {},
   "outputs": [
    {
     "data": {
      "text/plain": [
       "<Axes: >"
      ]
     },
     "execution_count": 9,
     "metadata": {},
     "output_type": "execute_result"
    },
    {
     "data": {
      "image/png": "[encoded data removed]",
      "text/plain": [
       "<Figure size 640x480 with 1 Axes>"
      ]
     },
     "metadata": {},
     "output_type": "display_data"
    }
   ],
   "source": [
    "data[\"watchers\"].hist(bins=12)"
   ]
  },
  {
   "cell_type": "code",
   "execution_count": 10,
   "id": "01776a49",
   "metadata": {},
   "outputs": [
    {
     "data": {
      "text/plain": [
       "<Axes: >"
      ]
     },
     "execution_count": 10,
     "metadata": {},
     "output_type": "execute_result"
    },
    {
     "data": {
      "image/png": "[encoded data removed]",
      "text/plain": [
       "<Figure size 640x480 with 1 Axes>"
      ]
     },
     "metadata": {},
     "output_type": "display_data"
    }
   ],
   "source": [
    "data[\"pull_requests\"].hist(bins=12)"
   ]
  },
  {
   "cell_type": "code",
   "execution_count": 11,
   "id": "f832875e",
   "metadata": {},
   "outputs": [
    {
     "data": {
      "text/plain": [
       "<Axes: >"
      ]
     },
     "execution_count": 11,
     "metadata": {},
     "output_type": "execute_result"
    },
    {
     "data": {
      "image/png": "[encoded data removed]",
      "text/plain": [
       "<Figure size 640x480 with 1 Axes>"
      ]
     },
     "metadata": {},
     "output_type": "display_data"
    }
   ],
   "source": [
    "data[\"commit_count\"].hist(bins=12)"
   ]
  },
  {
   "cell_type": "code",
   "execution_count": 12,
   "id": "97d6c4c7",
   "metadata": {},
   "outputs": [
    {
     "data": {
      "text/plain": [
       "<Axes: >"
      ]
     },
     "execution_count": 12,
     "metadata": {},
     "output_type": "execute_result"
    },
    {
     "data": {
      "image/png": "[encoded data removed]",
      "text/plain": [
       "<Figure size 640x480 with 1 Axes>"
      ]
     },
     "metadata": {},
     "output_type": "display_data"
    }
   ],
   "source": [
    "# 盒图\n",
    "plotlist = []\n",
    "for i in data.columns:\n",
    "    if data[i].dtype in [ np.int64, np.float64 ]:\n",
    "        plotlist.append(i)\n",
    "data[plotlist].boxplot()"
   ]
  },
  {
   "cell_type": "code",
   "execution_count": 13,
   "id": "e0e74652",
   "metadata": {},
   "outputs": [
    {
     "name": "stdout",
     "output_type": "stream",
     "text": [
      "stars_count\n",
      "                                          name  stars_count  forks_count  \\\n",
      "0                                 freeCodeCamp       359805        30814   \n",
      "1                                      996.ICU       264811        21470   \n",
      "2                       free-programming-books       262380        53302   \n",
      "3                  coding-interview-university       244927        65038   \n",
      "4                                      awesome       235223        24791   \n",
      "...                                        ...          ...          ...   \n",
      "2917946                          FastledServer            6            1   \n",
      "2917947                 zero-motorcycle-canbus            6            3   \n",
      "2917948       common-object-management-service            6            7   \n",
      "2917949  MSI-Z690-Carbon-i7-12700KF-Hackintosh            6            5   \n",
      "2917950                                 bottle            6            0   \n",
      "\n",
      "         watchers  pull_requests primary_language  \\\n",
      "0            8448          31867       TypeScript   \n",
      "1            4298           1949              NaN   \n",
      "2            9544           8235              NaN   \n",
      "3            8539            867              NaN   \n",
      "4            7446           1859              NaN   \n",
      "...           ...            ...              ...   \n",
      "2917946         1              0             HTML   \n",
      "2917947         2              0              C++   \n",
      "2917948         6             99       JavaScript   \n",
      "2917949         1              0              NaN   \n",
      "2917950         1              0            Scala   \n",
      "\n",
      "                                            languages_used  commit_count  \\\n",
      "0        ['TypeScript', 'JavaScript', 'CSS', 'Shell', '...       32231.0   \n",
      "1                                                      NaN        3189.0   \n",
      "2                                                      NaN        8286.0   \n",
      "3                                                      NaN        2314.0   \n",
      "4                                                      NaN        1074.0   \n",
      "...                                                    ...           ...   \n",
      "2917946        ['HTML', 'C++', 'TypeScript', 'JavaScript']           3.0   \n",
      "2917947                                       ['C++', 'C']           3.0   \n",
      "2917948             ['JavaScript', 'Smarty', 'Dockerfile']         504.0   \n",
      "2917949                                                NaN           1.0   \n",
      "2917950                         ['Scala', 'SuperCollider']          70.0   \n",
      "\n",
      "                   created_at  \\\n",
      "0        2014-12-24T17:49:19Z   \n",
      "1        2019-03-26T07:31:14Z   \n",
      "2        2013-10-11T06:50:37Z   \n",
      "3        2016-06-06T02:34:12Z   \n",
      "4        2014-07-11T13:42:37Z   \n",
      "...                       ...   \n",
      "2917946  2022-01-24T00:33:33Z   \n",
      "2917947  2022-01-23T21:51:51Z   \n",
      "2917948  2022-01-26T19:08:25Z   \n",
      "2917949  2022-01-24T03:27:16Z   \n",
      "2917950  2022-01-22T00:00:12Z   \n",
      "\n",
      "                                                   licence  \n",
      "0                  BSD 3-Clause \"New\" or \"Revised\" License  \n",
      "1                                                    Other  \n",
      "2                                                    Other  \n",
      "3        Creative Commons Attribution Share Alike 4.0 I...  \n",
      "4                     Creative Commons Zero v1.0 Universal  \n",
      "...                                                    ...  \n",
      "2917946                                                NaN  \n",
      "2917947                                        MIT License  \n",
      "2917948                                 Apache License 2.0  \n",
      "2917949                                                NaN  \n",
      "2917950                                        MIT License  \n",
      "\n",
      "[2752456 rows x 10 columns]\n",
      "forks_count\n",
      "                                          name  stars_count  forks_count  \\\n",
      "0                                 freeCodeCamp       359805        30814   \n",
      "1                                      996.ICU       264811        21470   \n",
      "2                       free-programming-books       262380        53302   \n",
      "3                  coding-interview-university       244927        65038   \n",
      "4                                      awesome       235223        24791   \n",
      "...                                        ...          ...          ...   \n",
      "2917946                          FastledServer            6            1   \n",
      "2917947                 zero-motorcycle-canbus            6            3   \n",
      "2917948       common-object-management-service            6            7   \n",
      "2917949  MSI-Z690-Carbon-i7-12700KF-Hackintosh            6            5   \n",
      "2917950                                 bottle            6            0   \n",
      "\n",
      "         watchers  pull_requests primary_language  \\\n",
      "0            8448          31867       TypeScript   \n",
      "1            4298           1949              NaN   \n",
      "2            9544           8235              NaN   \n",
      "3            8539            867              NaN   \n",
      "4            7446           1859              NaN   \n",
      "...           ...            ...              ...   \n",
      "2917946         1              0             HTML   \n",
      "2917947         2              0              C++   \n",
      "2917948         6             99       JavaScript   \n",
      "2917949         1              0              NaN   \n",
      "2917950         1              0            Scala   \n",
      "\n",
      "                                            languages_used  commit_count  \\\n",
      "0        ['TypeScript', 'JavaScript', 'CSS', 'Shell', '...       32231.0   \n",
      "1                                                      NaN        3189.0   \n",
      "2                                                      NaN        8286.0   \n",
      "3                                                      NaN        2314.0   \n",
      "4                                                      NaN        1074.0   \n",
      "...                                                    ...           ...   \n",
      "2917946        ['HTML', 'C++', 'TypeScript', 'JavaScript']           3.0   \n",
      "2917947                                       ['C++', 'C']           3.0   \n",
      "2917948             ['JavaScript', 'Smarty', 'Dockerfile']         504.0   \n",
      "2917949                                                NaN           1.0   \n",
      "2917950                         ['Scala', 'SuperCollider']          70.0   \n",
      "\n",
      "                   created_at  \\\n",
      "0        2014-12-24T17:49:19Z   \n",
      "1        2019-03-26T07:31:14Z   \n",
      "2        2013-10-11T06:50:37Z   \n",
      "3        2016-06-06T02:34:12Z   \n",
      "4        2014-07-11T13:42:37Z   \n",
      "...                       ...   \n",
      "2917946  2022-01-24T00:33:33Z   \n",
      "2917947  2022-01-23T21:51:51Z   \n",
      "2917948  2022-01-26T19:08:25Z   \n",
      "2917949  2022-01-24T03:27:16Z   \n",
      "2917950  2022-01-22T00:00:12Z   \n",
      "\n",
      "                                                   licence  \n",
      "0                  BSD 3-Clause \"New\" or \"Revised\" License  \n",
      "1                                                    Other  \n",
      "2                                                    Other  \n",
      "3        Creative Commons Attribution Share Alike 4.0 I...  \n",
      "4                     Creative Commons Zero v1.0 Universal  \n",
      "...                                                    ...  \n",
      "2917946                                                NaN  \n",
      "2917947                                        MIT License  \n",
      "2917948                                 Apache License 2.0  \n",
      "2917949                                                NaN  \n",
      "2917950                                        MIT License  \n",
      "\n",
      "[2711249 rows x 10 columns]\n",
      "watchers\n",
      "                                          name  stars_count  forks_count  \\\n",
      "0                                 freeCodeCamp       359805        30814   \n",
      "1                                      996.ICU       264811        21470   \n",
      "2                       free-programming-books       262380        53302   \n",
      "3                  coding-interview-university       244927        65038   \n",
      "4                                      awesome       235223        24791   \n",
      "...                                        ...          ...          ...   \n",
      "2917946                          FastledServer            6            1   \n",
      "2917947                 zero-motorcycle-canbus            6            3   \n",
      "2917948       common-object-management-service            6            7   \n",
      "2917949  MSI-Z690-Carbon-i7-12700KF-Hackintosh            6            5   \n",
      "2917950                                 bottle            6            0   \n",
      "\n",
      "         watchers  pull_requests primary_language  \\\n",
      "0            8448          31867       TypeScript   \n",
      "1            4298           1949              NaN   \n",
      "2            9544           8235              NaN   \n",
      "3            8539            867              NaN   \n",
      "4            7446           1859              NaN   \n",
      "...           ...            ...              ...   \n",
      "2917946         1              0             HTML   \n",
      "2917947         2              0              C++   \n",
      "2917948         6             99       JavaScript   \n",
      "2917949         1              0              NaN   \n",
      "2917950         1              0            Scala   \n",
      "\n",
      "                                            languages_used  commit_count  \\\n",
      "0        ['TypeScript', 'JavaScript', 'CSS', 'Shell', '...       32231.0   \n",
      "1                                                      NaN        3189.0   \n",
      "2                                                      NaN        8286.0   \n",
      "3                                                      NaN        2314.0   \n",
      "4                                                      NaN        1074.0   \n",
      "...                                                    ...           ...   \n",
      "2917946        ['HTML', 'C++', 'TypeScript', 'JavaScript']           3.0   \n",
      "2917947                                       ['C++', 'C']           3.0   \n",
      "2917948             ['JavaScript', 'Smarty', 'Dockerfile']         504.0   \n",
      "2917949                                                NaN           1.0   \n",
      "2917950                         ['Scala', 'SuperCollider']          70.0   \n",
      "\n",
      "                   created_at  \\\n",
      "0        2014-12-24T17:49:19Z   \n",
      "1        2019-03-26T07:31:14Z   \n",
      "2        2013-10-11T06:50:37Z   \n",
      "3        2016-06-06T02:34:12Z   \n",
      "4        2014-07-11T13:42:37Z   \n",
      "...                       ...   \n",
      "2917946  2022-01-24T00:33:33Z   \n",
      "2917947  2022-01-23T21:51:51Z   \n",
      "2917948  2022-01-26T19:08:25Z   \n",
      "2917949  2022-01-24T03:27:16Z   \n",
      "2917950  2022-01-22T00:00:12Z   \n",
      "\n",
      "                                                   licence  \n",
      "0                  BSD 3-Clause \"New\" or \"Revised\" License  \n",
      "1                                                    Other  \n",
      "2                                                    Other  \n",
      "3        Creative Commons Attribution Share Alike 4.0 I...  \n",
      "4                     Creative Commons Zero v1.0 Universal  \n",
      "...                                                    ...  \n",
      "2917946                                                NaN  \n",
      "2917947                                        MIT License  \n",
      "2917948                                 Apache License 2.0  \n",
      "2917949                                                NaN  \n",
      "2917950                                        MIT License  \n",
      "\n",
      "[2679763 rows x 10 columns]\n",
      "pull_requests\n"
     ]
    },
    {
     "name": "stdout",
     "output_type": "stream",
     "text": [
      "                                          name  stars_count  forks_count  \\\n",
      "0                                 freeCodeCamp       359805        30814   \n",
      "1                                      996.ICU       264811        21470   \n",
      "2                       free-programming-books       262380        53302   \n",
      "3                  coding-interview-university       244927        65038   \n",
      "4                                      awesome       235223        24791   \n",
      "...                                        ...          ...          ...   \n",
      "2917946                          FastledServer            6            1   \n",
      "2917947                 zero-motorcycle-canbus            6            3   \n",
      "2917948       common-object-management-service            6            7   \n",
      "2917949  MSI-Z690-Carbon-i7-12700KF-Hackintosh            6            5   \n",
      "2917950                                 bottle            6            0   \n",
      "\n",
      "         watchers  pull_requests primary_language  \\\n",
      "0            8448          31867       TypeScript   \n",
      "1            4298           1949              NaN   \n",
      "2            9544           8235              NaN   \n",
      "3            8539            867              NaN   \n",
      "4            7446           1859              NaN   \n",
      "...           ...            ...              ...   \n",
      "2917946         1              0             HTML   \n",
      "2917947         2              0              C++   \n",
      "2917948         6             99       JavaScript   \n",
      "2917949         1              0              NaN   \n",
      "2917950         1              0            Scala   \n",
      "\n",
      "                                            languages_used  commit_count  \\\n",
      "0        ['TypeScript', 'JavaScript', 'CSS', 'Shell', '...       32231.0   \n",
      "1                                                      NaN        3189.0   \n",
      "2                                                      NaN        8286.0   \n",
      "3                                                      NaN        2314.0   \n",
      "4                                                      NaN        1074.0   \n",
      "...                                                    ...           ...   \n",
      "2917946        ['HTML', 'C++', 'TypeScript', 'JavaScript']           3.0   \n",
      "2917947                                       ['C++', 'C']           3.0   \n",
      "2917948             ['JavaScript', 'Smarty', 'Dockerfile']         504.0   \n",
      "2917949                                                NaN           1.0   \n",
      "2917950                         ['Scala', 'SuperCollider']          70.0   \n",
      "\n",
      "                   created_at  \\\n",
      "0        2014-12-24T17:49:19Z   \n",
      "1        2019-03-26T07:31:14Z   \n",
      "2        2013-10-11T06:50:37Z   \n",
      "3        2016-06-06T02:34:12Z   \n",
      "4        2014-07-11T13:42:37Z   \n",
      "...                       ...   \n",
      "2917946  2022-01-24T00:33:33Z   \n",
      "2917947  2022-01-23T21:51:51Z   \n",
      "2917948  2022-01-26T19:08:25Z   \n",
      "2917949  2022-01-24T03:27:16Z   \n",
      "2917950  2022-01-22T00:00:12Z   \n",
      "\n",
      "                                                   licence  \n",
      "0                  BSD 3-Clause \"New\" or \"Revised\" License  \n",
      "1                                                    Other  \n",
      "2                                                    Other  \n",
      "3        Creative Commons Attribution Share Alike 4.0 I...  \n",
      "4                     Creative Commons Zero v1.0 Universal  \n",
      "...                                                    ...  \n",
      "2917946                                                NaN  \n",
      "2917947                                        MIT License  \n",
      "2917948                                 Apache License 2.0  \n",
      "2917949                                                NaN  \n",
      "2917950                                        MIT License  \n",
      "\n",
      "[2758722 rows x 10 columns]\n",
      "commit_count\n",
      "                                          name  stars_count  forks_count  \\\n",
      "0                                 freeCodeCamp       359805        30814   \n",
      "1                                      996.ICU       264811        21470   \n",
      "2                       free-programming-books       262380        53302   \n",
      "3                  coding-interview-university       244927        65038   \n",
      "4                                      awesome       235223        24791   \n",
      "...                                        ...          ...          ...   \n",
      "2917946                          FastledServer            6            1   \n",
      "2917947                 zero-motorcycle-canbus            6            3   \n",
      "2917948       common-object-management-service            6            7   \n",
      "2917949  MSI-Z690-Carbon-i7-12700KF-Hackintosh            6            5   \n",
      "2917950                                 bottle            6            0   \n",
      "\n",
      "         watchers  pull_requests primary_language  \\\n",
      "0            8448          31867       TypeScript   \n",
      "1            4298           1949              NaN   \n",
      "2            9544           8235              NaN   \n",
      "3            8539            867              NaN   \n",
      "4            7446           1859              NaN   \n",
      "...           ...            ...              ...   \n",
      "2917946         1              0             HTML   \n",
      "2917947         2              0              C++   \n",
      "2917948         6             99       JavaScript   \n",
      "2917949         1              0              NaN   \n",
      "2917950         1              0            Scala   \n",
      "\n",
      "                                            languages_used  commit_count  \\\n",
      "0        ['TypeScript', 'JavaScript', 'CSS', 'Shell', '...       32231.0   \n",
      "1                                                      NaN        3189.0   \n",
      "2                                                      NaN        8286.0   \n",
      "3                                                      NaN        2314.0   \n",
      "4                                                      NaN        1074.0   \n",
      "...                                                    ...           ...   \n",
      "2917946        ['HTML', 'C++', 'TypeScript', 'JavaScript']           3.0   \n",
      "2917947                                       ['C++', 'C']           3.0   \n",
      "2917948             ['JavaScript', 'Smarty', 'Dockerfile']         504.0   \n",
      "2917949                                                NaN           1.0   \n",
      "2917950                         ['Scala', 'SuperCollider']          70.0   \n",
      "\n",
      "                   created_at  \\\n",
      "0        2014-12-24T17:49:19Z   \n",
      "1        2019-03-26T07:31:14Z   \n",
      "2        2013-10-11T06:50:37Z   \n",
      "3        2016-06-06T02:34:12Z   \n",
      "4        2014-07-11T13:42:37Z   \n",
      "...                       ...   \n",
      "2917946  2022-01-24T00:33:33Z   \n",
      "2917947  2022-01-23T21:51:51Z   \n",
      "2917948  2022-01-26T19:08:25Z   \n",
      "2917949  2022-01-24T03:27:16Z   \n",
      "2917950  2022-01-22T00:00:12Z   \n",
      "\n",
      "                                                   licence  \n",
      "0                  BSD 3-Clause \"New\" or \"Revised\" License  \n",
      "1                                                    Other  \n",
      "2                                                    Other  \n",
      "3        Creative Commons Attribution Share Alike 4.0 I...  \n",
      "4                     Creative Commons Zero v1.0 Universal  \n",
      "...                                                    ...  \n",
      "2917946                                                NaN  \n",
      "2917947                                        MIT License  \n",
      "2917948                                 Apache License 2.0  \n",
      "2917949                                                NaN  \n",
      "2917950                                        MIT License  \n",
      "\n",
      "[2736794 rows x 10 columns]\n"
     ]
    }
   ],
   "source": [
    "# 离群点\n",
    "for i in data.columns:\n",
    "    if data[i].dtype in [ np.int64, np.float64 ]:\n",
    "        print(data[i].name)\n",
    "        q1, q3 = data[i].quantile([0.25, 0.75])\n",
    "        iqr = q3 - q1\n",
    "        outlier = data[(data[i] > q3 + iqr * 1.5) | (data[i] < q1 + iqr * 1.5)]\n",
    "        print(outlier)"
   ]
  },
  {
   "cell_type": "code",
   "execution_count": 14,
   "id": "62c9a756",
   "metadata": {},
   "outputs": [
    {
     "name": "stdout",
     "output_type": "stream",
     "text": [
      "name\n",
      "null count:13\n",
      "stars_count\n",
      "null count:0\n",
      "forks_count\n",
      "null count:0\n",
      "watchers\n",
      "null count:0\n",
      "pull_requests\n",
      "null count:0\n",
      "primary_language\n",
      "null count:218573\n",
      "languages_used\n",
      "null count:221984\n",
      "commit_count\n",
      "null count:1921\n",
      "created_at\n",
      "null count:0\n",
      "licence\n",
      "null count:1378200\n"
     ]
    }
   ],
   "source": [
    "## 数据缺失的处理\n",
    "for i in data.columns:\n",
    "    print(data[i].name)\n",
    "    print(\"null count:{}\".format(data[i].isnull().sum()))"
   ]
  },
  {
   "cell_type": "code",
   "execution_count": 15,
   "id": "b1ddc169",
   "metadata": {},
   "outputs": [],
   "source": [
    "# 有缺失值的属性为name，primary_language，languages_used，commit_count和licence，缺失原因分析：\n",
    "# 记录数据时缺失\n",
    "# 有些对象的某些属性无法获取\n",
    "# 某些对象的属性本身就是None\n",
    "# 某些对象的属性在数据分析中不重要，所以没有获取"
   ]
  },
  {
   "cell_type": "code",
   "execution_count": 16,
   "id": "c65f9130",
   "metadata": {},
   "outputs": [
    {
     "data": {
      "text/plain": [
       "<Axes: >"
      ]
     },
     "execution_count": 16,
     "metadata": {},
     "output_type": "execute_result"
    },
    {
     "data": {
      "image/png": "[encoded data removed]",
      "text/plain": [
       "<Figure size 640x480 with 1 Axes>"
      ]
     },
     "metadata": {},
     "output_type": "display_data"
    }
   ],
   "source": [
    "# 以数值属性commit_count为例，分别使用四种策略对缺失值进行处理，并在处理完成后对比新旧数据集的差异\n",
    "# 将缺失部分剔除\n",
    "data_copy = data\n",
    "data.dropna()\n",
    "data[\"commit_count\"].hist(bins=12)"
   ]
  },
  {
   "cell_type": "code",
   "execution_count": 17,
   "id": "5b16b4a3",
   "metadata": {},
   "outputs": [
    {
     "data": {
      "text/plain": [
       "<Axes: >"
      ]
     },
     "execution_count": 17,
     "metadata": {},
     "output_type": "execute_result"
    },
    {
     "data": {
      "image/png": "[encoded data removed]",
      "text/plain": [
       "<Figure size 640x480 with 1 Axes>"
      ]
     },
     "metadata": {},
     "output_type": "display_data"
    }
   ],
   "source": [
    "data[[\"commit_count\"]].boxplot()"
   ]
  },
  {
   "cell_type": "code",
   "execution_count": 18,
   "id": "1d6773a9",
   "metadata": {},
   "outputs": [
    {
     "data": {
      "text/plain": [
       "<Axes: >"
      ]
     },
     "execution_count": 18,
     "metadata": {},
     "output_type": "execute_result"
    },
    {
     "data": {
      "image/png": "[encoded data removed]",
      "text/plain": [
       "<Figure size 640x480 with 1 Axes>"
      ]
     },
     "metadata": {},
     "output_type": "display_data"
    }
   ],
   "source": [
    "# 用最高频率值来填补缺失值\n",
    "data = data_copy\n",
    "for i in data.columns:\n",
    "    data[i].fillna(data[i].mode())\n",
    "data[\"commit_count\"].hist(bins=12)"
   ]
  },
  {
   "cell_type": "code",
   "execution_count": 19,
   "id": "015bd301",
   "metadata": {},
   "outputs": [
    {
     "data": {
      "text/plain": [
       "<Axes: >"
      ]
     },
     "execution_count": 19,
     "metadata": {},
     "output_type": "execute_result"
    },
    {
     "data": {
      "image/png": "[encoded data removed]",
      "text/plain": [
       "<Figure size 640x480 with 1 Axes>"
      ]
     },
     "metadata": {},
     "output_type": "display_data"
    }
   ],
   "source": [
    "data[[\"commit_count\"]].boxplot()"
   ]
  },
  {
   "cell_type": "code",
   "execution_count": 20,
   "id": "f968664d",
   "metadata": {},
   "outputs": [
    {
     "name": "stderr",
     "output_type": "stream",
     "text": [
      "C:\\Users\\WhiteLoli\\AppData\\Local\\Temp\\ipykernel_6640\\3201342750.py:3: FutureWarning: DataFrame.interpolate with object dtype is deprecated and will raise in a future version. Call obj.infer_objects(copy=False) before interpolating instead.\n",
      "  data.interpolate(\"nearest\")\n"
     ]
    },
    {
     "data": {
      "text/plain": [
       "<Axes: >"
      ]
     },
     "execution_count": 20,
     "metadata": {},
     "output_type": "execute_result"
    },
    {
     "data": {
      "image/png": "[encoded data removed]",
      "text/plain": [
       "<Figure size 640x480 with 1 Axes>"
      ]
     },
     "metadata": {},
     "output_type": "display_data"
    }
   ],
   "source": [
    "# 通过属性的相关关系来填补缺失值\n",
    "data = data_copy\n",
    "data.interpolate(\"nearest\")\n",
    "data[\"commit_count\"].hist(bins=12)"
   ]
  },
  {
   "cell_type": "code",
   "execution_count": 21,
   "id": "c2078f3b",
   "metadata": {},
   "outputs": [
    {
     "data": {
      "text/plain": [
       "<Axes: >"
      ]
     },
     "execution_count": 21,
     "metadata": {},
     "output_type": "execute_result"
    },
    {
     "data": {
      "image/png": "[encoded data removed]",
      "text/plain": [
       "<Figure size 640x480 with 1 Axes>"
      ]
     },
     "metadata": {},
     "output_type": "display_data"
    }
   ],
   "source": [
    "data[[\"commit_count\"]].boxplot()"
   ]
  },
  {
   "cell_type": "code",
   "execution_count": 22,
   "id": "f4f9aead",
   "metadata": {},
   "outputs": [
    {
     "data": {
      "text/plain": [
       "<Axes: >"
      ]
     },
     "execution_count": 22,
     "metadata": {},
     "output_type": "execute_result"
    },
    {
     "data": {
      "image/png": "[encoded data removed]",
      "text/plain": [
       "<Figure size 640x480 with 1 Axes>"
      ]
     },
     "metadata": {},
     "output_type": "display_data"
    }
   ],
   "source": [
    "# 通过数据对象之间的相似性来填补缺失值\n",
    "# 使用KNN算法来对相似数据进行聚类\n",
    "def knn_filled_func(x_train, y_train, test, k = 3, dispersed = True):\n",
    "    # x_train为目标列不含缺失值的数据（不包括目标列）\n",
    "    # y_train为不含缺失值的目标列\n",
    "    # test为目标列为缺失值的数据（不包括目标列）\n",
    "    if dispersed:\n",
    "        knn= KNeighborsClassifier(n_neighbors = k, weights = \"distance\")\n",
    "    else:\n",
    "        knn= KNeighborsRegressor(n_neighbors = k, weights = \"distance\")\n",
    "    \n",
    "    knn.fit(x_train, y_train)\n",
    "    \n",
    "    return test.index, knn.predict(test)\n",
    "\n",
    "data = data_copy\n",
    "x_train = data[~data[\"commit_count\"].isnull()][[\"stars_count\"]]\n",
    "y_train = data[~data[\"commit_count\"].isnull()][\"commit_count\"]\n",
    "test = data[data[\"commit_count\"].isnull()][[\"stars_count\"]]\n",
    "\n",
    "index, pred = knn_filled_func(x_train, y_train, test, k = 3, dispersed = True)\n",
    "\n",
    "data.loc[index, \"commit_count\"] = pred\n",
    "data[\"commit_count\"].hist(bins=12)"
   ]
  },
  {
   "cell_type": "code",
   "execution_count": 23,
   "id": "a1bc1bb8",
   "metadata": {},
   "outputs": [
    {
     "data": {
      "text/plain": [
       "<Axes: >"
      ]
     },
     "execution_count": 23,
     "metadata": {},
     "output_type": "execute_result"
    },
    {
     "data": {
      "image/png": "[encoded data removed]",
      "text/plain": [
       "<Figure size 640x480 with 1 Axes>"
      ]
     },
     "metadata": {},
     "output_type": "display_data"
    }
   ],
   "source": [
    "data[[\"commit_count\"]].boxplot()"
   ]
  },
  {
   "cell_type": "code",
   "execution_count": 24,
   "id": "2b06646b",
   "metadata": {},
   "outputs": [
    {
     "name": "stderr",
     "output_type": "stream",
     "text": [
      "C:\\Users\\WhiteLoli\\AppData\\Local\\Temp\\ipykernel_6640\\3623659040.py:3: DtypeWarning: Columns (13,14) have mixed types. Specify dtype option on import or set low_memory=False.\n",
      "  data = pd.read_csv(r\"D:\\数据挖掘\\Alzheimer Disease and Healthy Aging Data In US\\Alzheimer Disease and Healthy Aging Data In US.csv\")\n"
     ]
    },
    {
     "name": "stdout",
     "output_type": "stream",
     "text": [
      "<class 'pandas.core.frame.DataFrame'>\n",
      "RangeIndex: 214462 entries, 0 to 214461\n",
      "Data columns (total 29 columns):\n",
      " #   Column                     Non-Null Count   Dtype  \n",
      "---  ------                     --------------   -----  \n",
      " 0   YearStart                  214462 non-null  int64  \n",
      " 1   YearEnd                    214462 non-null  int64  \n",
      " 2   LocationAbbr               214462 non-null  object \n",
      " 3   LocationDesc               214462 non-null  object \n",
      " 4   Datasource                 214462 non-null  object \n",
      " 5   Class                      214462 non-null  object \n",
      " 6   Topic                      214462 non-null  object \n",
      " 7   Question                   214462 non-null  object \n",
      " 8   Data_Value_Unit            214462 non-null  object \n",
      " 9   DataValueTypeID            214462 non-null  object \n",
      " 10  Data_Value_Type            214462 non-null  object \n",
      " 11  Data_Value                 144629 non-null  float64\n",
      " 12  Data_Value_Alt             144629 non-null  float64\n",
      " 13  Low_Confidence_Limit       144472 non-null  object \n",
      " 14  High_Confidence_Limit      144472 non-null  object \n",
      " 15  Sample_Size                0 non-null       float64\n",
      " 16  StratificationCategory1    214462 non-null  object \n",
      " 17  Stratification1            214462 non-null  object \n",
      " 18  StratificationCategory2    186793 non-null  object \n",
      " 19  Stratification2            186793 non-null  object \n",
      " 20  Geolocation                191413 non-null  object \n",
      " 21  ClassID                    214462 non-null  object \n",
      " 22  TopicID                    214462 non-null  object \n",
      " 23  QuestionID                 214462 non-null  object \n",
      " 24  LocationID                 214462 non-null  int64  \n",
      " 25  StratificationCategoryID1  214462 non-null  object \n",
      " 26  StratificationID1          214462 non-null  object \n",
      " 27  StratificationCategoryID2  214462 non-null  object \n",
      " 28  StratificationID2          214462 non-null  object \n",
      "dtypes: float64(3), int64(3), object(23)\n",
      "memory usage: 47.5+ MB\n"
     ]
    }
   ],
   "source": [
    "# 加载数据集\n",
    "# 第二个数据集选择Alzheimer Disease and Healthy Aging Data in US\n",
    "data = pd.read_csv(r\"D:\\数据挖掘\\Alzheimer Disease and Healthy Aging Data In US\\Alzheimer Disease and Healthy Aging Data In US.csv\")\n",
    "\n",
    "# 查看数据的总体情况\n",
    "data.info()"
   ]
  },
  {
   "cell_type": "code",
   "execution_count": 25,
   "id": "9839df9a",
   "metadata": {},
   "outputs": [],
   "source": [
    "# 共有214462条数据，每个数据有24个标称属性和5个数值属性（LocationID为标称属性）"
   ]
  },
  {
   "cell_type": "code",
   "execution_count": 26,
   "id": "5ee24d5e",
   "metadata": {},
   "outputs": [
    {
     "name": "stdout",
     "output_type": "stream",
     "text": [
      "LocationAbbr\n",
      "US      4644\n",
      "WEST    4638\n",
      "NRE     4614\n",
      "MDW     4611\n",
      "OR      4565\n",
      "NY      4557\n",
      "SOU     4542\n",
      "UT      4222\n",
      "OH      3955\n",
      "GA      3951\n",
      "MD      3919\n",
      "HI      3907\n",
      "TN      3879\n",
      "MI      3796\n",
      "VA      3758\n",
      "FL      3753\n",
      "ME      3733\n",
      "TX      3699\n",
      "NV      3696\n",
      "DC      3684\n",
      "WV      3682\n",
      "MS      3677\n",
      "PA      3648\n",
      "NM      3635\n",
      "AL      3633\n",
      "KY      3623\n",
      "AK      3611\n",
      "SC      3592\n",
      "NJ      3589\n",
      "AZ      3582\n",
      "MO      3573\n",
      "IL      3571\n",
      "IN      3570\n",
      "WI      3569\n",
      "LA      3563\n",
      "MN      3555\n",
      "NE      3546\n",
      "CT      3543\n",
      "RI      3534\n",
      "OK      3526\n",
      "SD      3526\n",
      "ND      3514\n",
      "KS      3510\n",
      "ID      3507\n",
      "IA      3501\n",
      "AR      3498\n",
      "WY      3494\n",
      "CA      3447\n",
      "CO      3390\n",
      "NC      3349\n",
      "WA      3348\n",
      "MT      3348\n",
      "DE      3346\n",
      "NH      3284\n",
      "VT      3278\n",
      "MA      3174\n",
      "PR      2797\n",
      "GU      2703\n",
      "VI       503\n",
      "Name: count, dtype: int64\n",
      "LocationDesc\n",
      "United States, DC & Territories    4644\n",
      "West                               4638\n",
      "Northeast                          4614\n",
      "Midwest                            4611\n",
      "Oregon                             4565\n",
      "New York                           4557\n",
      "South                              4542\n",
      "Utah                               4222\n",
      "Ohio                               3955\n",
      "Georgia                            3951\n",
      "Maryland                           3919\n",
      "Hawaii                             3907\n",
      "Tennessee                          3879\n",
      "Michigan                           3796\n",
      "Virginia                           3758\n",
      "Florida                            3753\n",
      "Maine                              3733\n",
      "Texas                              3699\n",
      "Nevada                             3696\n",
      "District of Columbia               3684\n",
      "West Virginia                      3682\n",
      "Mississippi                        3677\n",
      "Pennsylvania                       3648\n",
      "New Mexico                         3635\n",
      "Alabama                            3633\n",
      "Kentucky                           3623\n",
      "Alaska                             3611\n",
      "South Carolina                     3592\n",
      "New Jersey                         3589\n",
      "Arizona                            3582\n",
      "Missouri                           3573\n",
      "Illinois                           3571\n",
      "Indiana                            3570\n",
      "Wisconsin                          3569\n",
      "Louisiana                          3563\n",
      "Minnesota                          3555\n",
      "Nebraska                           3546\n",
      "Connecticut                        3543\n",
      "Rhode Island                       3534\n",
      "Oklahoma                           3526\n",
      "South Dakota                       3526\n",
      "North Dakota                       3514\n",
      "Kansas                             3510\n",
      "Idaho                              3507\n",
      "Iowa                               3501\n",
      "Arkansas                           3498\n",
      "Wyoming                            3494\n",
      "California                         3447\n",
      "Colorado                           3390\n",
      "North Carolina                     3349\n",
      "Washington                         3348\n",
      "Montana                            3348\n",
      "Delaware                           3346\n",
      "New Hampshire                      3284\n",
      "Vermont                            3278\n",
      "Massachusetts                      3174\n",
      "Puerto Rico                        2797\n",
      "Guam                               2703\n",
      "Virgin Islands                      503\n",
      "Name: count, dtype: int64\n",
      "Datasource\n",
      "BRFSS    214462\n",
      "Name: count, dtype: int64\n",
      "Class\n",
      "Overall Health                         71694\n",
      "Screenings and Vaccines                46867\n",
      "Nutrition/Physical Activity/Obesity    24851\n",
      "Cognitive Decline                      19180\n",
      "Caregiving                             18671\n",
      "Mental Health                          16600\n",
      "Smoking and Alcohol Use                16599\n",
      "Name: count, dtype: int64\n",
      "Topic\n",
      "Obesity                                                                                                   8300\n",
      "Influenza vaccine within past year                                                                        8300\n",
      "Physically unhealthy days (mean number of days)                                                           8300\n",
      "Frequent mental distress                                                                                  8300\n",
      "Current smoking                                                                                           8300\n",
      "Lifetime diagnosis of depression                                                                          8300\n",
      "No leisure-time physical activity within past month                                                       8300\n",
      "Self-rated health (fair to poor health)                                                                   8299\n",
      "Self-rated health (good to excellent health)                                                              8299\n",
      "Binge drinking within past 30 days                                                                        8299\n",
      "Ever had pneumococcal vaccine                                                                             8268\n",
      "Recent activity limitations in past month                                                                 8233\n",
      "Disability status, including sensory or mobility limitations                                              6917\n",
      "Arthritis among older adults                                                                              5511\n",
      "Fair or poor health among older adults with arthritis                                                     5447\n",
      "Subjective cognitive decline or memory loss among older adults                                            5088\n",
      "Diabetes screening within past 3 years                                                                    4808\n",
      "Talked with health care professional about subjective cognitive decline or memory loss                    4700\n",
      "Need assistance with day-to-day activities because of subjective cognitive decline or memory loss         4696\n",
      "Functional difficulties associated with subjective cognitive decline or memory loss among older adults    4696\n",
      "Fall with injury within last year                                                                         4173\n",
      "Colorectal cancer screening                                                                               4173\n",
      "Oral health:  tooth retention                                                                             4172\n",
      "Prevalence of sufficient sleep                                                                            4171\n",
      "Eating 3 or more vegetables daily                                                                         4127\n",
      "High blood pressure ever                                                                                  4127\n",
      "Cholesterol checked in past 5 years                                                                       4127\n",
      "Eating 2 or more fruits daily                                                                             4124\n",
      "Taking medication for high blood pressure                                                                 4108\n",
      "Severe joint pain among older adults with arthritis                                                       4064\n",
      "Provide care for a friend or family member in past month                                                  3848\n",
      "Expect to provide care for someone in the next two years                                                  3797\n",
      "Provide care for someone with cognitive impairment within the past month                                  3682\n",
      "Duration of caregiving among older adults                                                                 3681\n",
      "Intensity of caregiving among older adults                                                                3663\n",
      "Up-to-date with recommended vaccines and screenings - Women                                               3280\n",
      "Up-to-date with recommended vaccines and screenings - Men                                                 3271\n",
      "Mammogram within past 2 years                                                                             3271\n",
      "Pap test within past 3 years                                                                              3242\n",
      "Name: count, dtype: int64\n",
      "Question\n",
      "Percentage of older adults who are currently obese, with a body mass index (BMI) of 30 or more                                                                               8300\n",
      "Percentage of older adults who reported influenza vaccine within the past year                                                                                               8300\n",
      "Physically unhealthy days (mean number of days in past month)                                                                                                                8300\n",
      "Percentage of older adults who are experiencing frequent mental distress                                                                                                     8300\n",
      "Percentage of older adults who have smoked at least 100 cigarettes in their entire life and still smoke every day or some days                                               8300\n",
      "Percentage of older adults with a lifetime diagnosis of depression                                                                                                           8300\n",
      "Percentage of older adults who have not had any leisure time physical activity in the past month                                                                             8300\n",
      "Percentage of older adults who self-reported that their health is \"fair\" or \"poor\"                                                                                           8299\n",
      "Percentage of older adults who self-reported that their health is \"good\", \"very good\", or \"excellent\"                                                                        8299\n",
      "Percentage of older adults who reported binge drinking within the past 30 days                                                                                               8299\n",
      "Percentage of at risk adults (have diabetes, asthma, cardiovascular disease or currently smoke) who ever had a pneumococcal vaccine                                          8268\n",
      "Mean number of days with activity limitations in the past month                                                                                                              8233\n",
      "Percentage of older adults who report having a disability (includes limitations related to sensory or mobility impairments or a physical, mental, or emotional condition)    6917\n",
      "Percentage of older adults ever told they have arthritis                                                                                                                     5511\n",
      "Fair or poor health among older adults with doctor-diagnosed arthritis                                                                                                       5447\n",
      "Percentage of older adults who reported subjective cognitive decline or memory loss that is happening more often or is getting worse in the preceding 12 months              5088\n",
      "Percentage of older adults without diabetes who reported a blood sugar or diabetes test within 3 years                                                                       4808\n",
      "Percentage of older adults with subjective cognitive decline or memory loss who reported talking with a health care professional about it                                    4700\n",
      "Percentage of older adults who reported that as a result of subjective cognitive decline or memory loss that they need assistance with day-to-day activities                 4696\n",
      "Percentage of older adults who reported subjective cognitive decline or memory loss that interferes with their ability to engage in social activities or household chores    4696\n",
      "Percentage of older adults who have fallen and sustained an injury within last year                                                                                          4173\n",
      "Percentage of older adults who had either a home blood stool test within the past year or a sigmoidoscopy or colonoscopy within the past 10 years                            4173\n",
      "Percentage of older adults who report having lost 5 or fewer teeth due to decay or gum disease                                                                               4172\n",
      "Percentage of older adults getting sufficient sleep (>6 hours)                                                                                                               4171\n",
      "Percentage of older adults who are eating 3 or more vegetables daily                                                                                                         4127\n",
      "Percentage of older adults who have ever been told by a health professional that they have high blood pressure                                                               4127\n",
      "Percentage of older adults who had a cholesterol screening within the past 5 years                                                                                           4127\n",
      "Percentage of older adults who are eating 2 or more fruits daily                                                                                                             4124\n",
      "Percentage of older adults who have been told they have high blood pressure who report currently taking medication for their high blood pressure                             4108\n",
      "Severe joint pain due to arthritis among older adults with doctor-diagnosed arthritis                                                                                        4064\n",
      "Percentage of older adults who provided care for a friend or family member within the past month                                                                             3848\n",
      "Percentage of older adults currently not providing care who expect to provide care for someone with health problems in the next two years                                    3797\n",
      "Percentage of older adults who provided care for someone with dementia or other cognitive impairment within the past month                                                   3682\n",
      "Percentage of older adults who provided care to a friend or family member for six months or more                                                                             3681\n",
      "Average of 20 or more hours of care per week provided to a friend or family member                                                                                           3663\n",
      "Percentage of older adult women who are up to date with select clinical preventive services                                                                                  3280\n",
      "Percentage of older adult men who are up to date with select clinical preventive services                                                                                    3271\n",
      "Percentage of older adult women who have received a mammogram within the past 2 years                                                                                        3271\n",
      "Percentage of older adult women with an intact cervix who had a Pap test within the past 3 years                                                                             3242\n",
      "Name: count, dtype: int64\n",
      "Data_Value_Unit\n",
      "%         197929\n",
      "Number     16533\n",
      "Name: count, dtype: int64\n",
      "DataValueTypeID\n",
      "PRCTG    197929\n",
      "MEAN      16533\n",
      "Name: count, dtype: int64\n",
      "Data_Value_Type\n",
      "Percentage    197929\n",
      "Mean           16533\n",
      "Name: count, dtype: int64\n",
      "Low_Confidence_Limit\n",
      "5.4     350\n",
      "5.1     318\n",
      "4.8     314\n",
      "5.3     313\n",
      "5       305\n",
      "       ... \n",
      "96.8      1\n",
      "98.4      1\n",
      "0.9       1\n",
      "97.8      1\n",
      "99.4      1\n",
      "Name: count, Length: 1967, dtype: int64\n",
      "High_Confidence_Limit\n",
      "6.5    216\n",
      "5.8    193\n",
      "6.8    192\n",
      "6.7    189\n",
      "7.5    186\n",
      "      ... \n",
      "1.7      1\n",
      "2.8      1\n",
      "2.8      1\n",
      "1.5      1\n",
      "1.6      1\n",
      "Name: count, Length: 1966, dtype: int64\n",
      "StratificationCategory1\n",
      "Age Group    214462\n",
      "Name: count, dtype: int64\n",
      "Stratification1\n",
      "Overall              71919\n",
      "50-64 years          71528\n",
      "65 years or older    71015\n",
      "Name: count, dtype: int64\n",
      "StratificationCategory2\n",
      "Race/Ethnicity    134959\n",
      "Gender             51834\n",
      "Name: count, dtype: int64\n",
      "Stratification2\n",
      "White, non-Hispanic         27633\n",
      "Hispanic                    27525\n",
      "Black, non-Hispanic         26968\n",
      "Native Am/Alaskan Native    26571\n",
      "Asian/Pacific Islander      26262\n",
      "Female                      26091\n",
      "Male                        25743\n",
      "Name: count, dtype: int64\n"
     ]
    },
    {
     "name": "stdout",
     "output_type": "stream",
     "text": [
      "Geolocation\n",
      "POINT (-120.1550313 44.56744942)    4565\n",
      "POINT (-75.54397043 42.82700103)    4557\n",
      "POINT (-111.5871306 39.36070017)    4222\n",
      "POINT (-82.40426006 40.06021014)    3955\n",
      "POINT (-83.62758035 32.83968109)    3951\n",
      "POINT (-76.60926011 39.29058096)    3919\n",
      "POINT (-157.8577494 21.30485044)    3907\n",
      "POINT (-85.77449091 35.68094058)    3879\n",
      "POINT (-84.71439027 44.66131954)    3796\n",
      "POINT (-78.45789046 37.54268067)    3758\n",
      "POINT (-81.92896054 28.93204038)    3753\n",
      "POINT (-68.98503134 45.25422889)    3733\n",
      "POINT (-99.42677021 31.82724041)    3699\n",
      "POINT (-117.0718406 39.49324039)    3696\n",
      "POINT (-77.036871 38.907192)        3684\n",
      "POINT (-80.71264013 38.6655102)     3682\n",
      "POINT (-89.53803082 32.7455101)     3677\n",
      "POINT (-77.86070029 40.79373015)    3648\n",
      "POINT (-106.240581 34.52088095)     3635\n",
      "POINT (-86.63186076 32.84057112)    3633\n",
      "POINT (-84.77497105 37.64597027)    3623\n",
      "POINT (-147.722059 64.84507996)     3611\n",
      "POINT (-81.04537121 33.9988213)     3592\n",
      "POINT (-74.27369129 40.13057005)    3589\n",
      "POINT (-111.7638113 34.86597028)    3582\n",
      "POINT (-92.56630005 38.63579078)    3573\n",
      "POINT (-88.99771018 40.48501028)    3571\n",
      "POINT (-86.14996019 39.76691045)    3570\n",
      "POINT (-89.81637074 44.39319117)    3569\n",
      "POINT (-92.44568007 31.31266064)    3563\n",
      "POINT (-94.7942005 46.35564874)     3555\n",
      "POINT (-99.36572062 41.64104099)    3546\n",
      "POINT (-72.64984095 41.56266102)    3543\n",
      "POINT (-71.52247031 41.70828019)    3534\n",
      "POINT (-97.52107021 35.47203136)    3526\n",
      "POINT (-100.3735306 44.35313005)    3526\n",
      "POINT (-100.118421 47.47531978)     3514\n",
      "POINT (-98.20078123 38.3477403)     3510\n",
      "POINT (-114.36373 43.68263001)      3507\n",
      "POINT (-93.81649056 42.46940091)    3501\n",
      "POINT (-92.27449074 34.74865012)    3498\n",
      "POINT (-108.1098304 43.23554134)    3494\n",
      "POINT (-120.9999995 37.63864012)    3447\n",
      "POINT (-106.1336109 38.84384076)    3390\n",
      "POINT (-79.15925046 35.46622098)    3349\n",
      "POINT (-109.4244206 47.06652897)    3348\n",
      "POINT (-120.4700108 47.52227863)    3348\n",
      "POINT (-75.57774117 39.00883067)    3346\n",
      "POINT (-71.50036092 43.65595011)    3284\n",
      "POINT (-72.51764079 43.62538124)    3278\n",
      "POINT (-72.08269067 42.27687047)    3174\n",
      "POINT (-66.590149 18.220833)        2797\n",
      "POINT (144.793731 13.444304)        2703\n",
      "POINT (-64.896335 18.335765)         503\n",
      "Name: count, dtype: int64\n",
      "ClassID\n",
      "C01    71694\n",
      "C03    46867\n",
      "C02    24851\n",
      "C06    19180\n",
      "C07    18671\n",
      "C05    16600\n",
      "C04    16599\n",
      "Name: count, dtype: int64\n",
      "TopicID\n",
      "TNC04    8300\n",
      "TSC08    8300\n",
      "TOC01    8300\n",
      "TMC01    8300\n",
      "TAC01    8300\n",
      "TMC03    8300\n",
      "TNC03    8300\n",
      "TOC07    8299\n",
      "TOC08    8299\n",
      "TAC03    8299\n",
      "TSC09    8268\n",
      "TOC03    8233\n",
      "TOC10    6917\n",
      "TOC11    5511\n",
      "TOC13    5447\n",
      "TCC01    5088\n",
      "TSC04    4808\n",
      "TCC04    4700\n",
      "TCC03    4696\n",
      "TCC02    4696\n",
      "TOC06    4173\n",
      "TSC02    4173\n",
      "TOC05    4172\n",
      "TOC09    4171\n",
      "TNC02    4127\n",
      "TSC07    4127\n",
      "TSC06    4127\n",
      "TNC01    4124\n",
      "TOC04    4108\n",
      "TOC12    4064\n",
      "TGC01    3848\n",
      "TGC02    3797\n",
      "TGC05    3682\n",
      "TGC03    3681\n",
      "TGC04    3663\n",
      "TSC11    3280\n",
      "TSC10    3271\n",
      "TSC01    3271\n",
      "TSC03    3242\n",
      "Name: count, dtype: int64\n",
      "QuestionID\n",
      "Q13    8300\n",
      "Q18    8300\n",
      "Q08    8300\n",
      "Q03    8300\n",
      "Q17    8300\n",
      "Q27    8300\n",
      "Q16    8300\n",
      "Q32    8299\n",
      "Q33    8299\n",
      "Q21    8299\n",
      "Q09    8268\n",
      "Q35    8233\n",
      "Q46    6917\n",
      "Q43    5511\n",
      "Q45    5447\n",
      "Q30    5088\n",
      "Q19    4808\n",
      "Q42    4700\n",
      "Q41    4696\n",
      "Q31    4696\n",
      "Q05    4173\n",
      "Q15    4173\n",
      "Q07    4172\n",
      "Q34    4171\n",
      "Q02    4127\n",
      "Q22    4127\n",
      "Q14    4127\n",
      "Q01    4124\n",
      "Q04    4108\n",
      "Q44    4064\n",
      "Q36    3848\n",
      "Q37    3797\n",
      "Q40    3682\n",
      "Q38    3681\n",
      "Q39    3663\n",
      "Q11    3280\n",
      "Q10    3271\n",
      "Q12    3271\n",
      "Q20    3242\n",
      "Name: count, dtype: int64\n",
      "LocationID\n",
      "59      4644\n",
      "9004    4638\n",
      "9001    4614\n",
      "9002    4611\n",
      "41      4565\n",
      "36      4557\n",
      "9003    4542\n",
      "49      4222\n",
      "39      3955\n",
      "13      3951\n",
      "24      3919\n",
      "15      3907\n",
      "47      3879\n",
      "26      3796\n",
      "51      3758\n",
      "12      3753\n",
      "23      3733\n",
      "48      3699\n",
      "32      3696\n",
      "11      3684\n",
      "54      3682\n",
      "28      3677\n",
      "42      3648\n",
      "35      3635\n",
      "1       3633\n",
      "21      3623\n",
      "2       3611\n",
      "45      3592\n",
      "34      3589\n",
      "4       3582\n",
      "29      3573\n",
      "17      3571\n",
      "18      3570\n",
      "55      3569\n",
      "22      3563\n",
      "27      3555\n",
      "31      3546\n",
      "9       3543\n",
      "44      3534\n",
      "40      3526\n",
      "46      3526\n",
      "38      3514\n",
      "20      3510\n",
      "16      3507\n",
      "19      3501\n",
      "5       3498\n",
      "56      3494\n",
      "6       3447\n",
      "8       3390\n",
      "37      3349\n",
      "53      3348\n",
      "30      3348\n",
      "10      3346\n",
      "33      3284\n",
      "50      3278\n",
      "25      3174\n",
      "72      2797\n",
      "66      2703\n",
      "78       503\n",
      "Name: count, dtype: int64\n",
      "StratificationCategoryID1\n",
      "AGE    214462\n",
      "Name: count, dtype: int64\n",
      "StratificationID1\n",
      "AGE_OVERALL    71919\n",
      "5064           71528\n",
      "65PLUS         71015\n",
      "Name: count, dtype: int64\n",
      "StratificationCategoryID2\n",
      "RACE       134959\n",
      "GENDER      51834\n",
      "OVERALL     27669\n",
      "Name: count, dtype: int64\n",
      "StratificationID2\n",
      "OVERALL    27669\n",
      "WHT        27633\n",
      "HIS        27525\n",
      "BLK        26968\n",
      "NAA        26571\n",
      "ASN        26262\n",
      "FEMALE     26091\n",
      "MALE       25743\n",
      "Name: count, dtype: int64\n"
     ]
    }
   ],
   "source": [
    "## 数据摘要\n",
    "# 给出标称属性每个可能取值的频数\n",
    "for i in data.columns:\n",
    "    if data[i].dtype == object or i == 'LocationID':\n",
    "        print(data[i].value_counts())"
   ]
  },
  {
   "cell_type": "code",
   "execution_count": 27,
   "id": "fd5507c1",
   "metadata": {},
   "outputs": [
    {
     "name": "stdout",
     "output_type": "stream",
     "text": [
      "YearStart\n",
      "null count:0\n",
      "max:2020 q3:2019.0 median:2017.0 q1:2016.0 min:2015\n",
      "YearEnd\n",
      "null count:0\n",
      "max:2020 q3:2019.0 median:2018.0 q1:2016.0 min:2015\n",
      "Data_Value\n",
      "null count:69833\n",
      "max:100.0 q3:56.8 median:32.5 q1:15.3 min:0.0\n",
      "Data_Value_Alt\n",
      "null count:69833\n",
      "max:100.0 q3:56.8 median:32.5 q1:15.3 min:0.0\n",
      "Sample_Size\n",
      "null count:214462\n",
      "max:nan q3:nan median:nan q1:nan min:nan\n"
     ]
    },
    {
     "name": "stderr",
     "output_type": "stream",
     "text": [
      "D:\\ANACONDA\\envs\\py39\\lib\\site-packages\\numpy\\lib\\nanfunctions.py:1215: RuntimeWarning: Mean of empty slice\n",
      "  return np.nanmean(a, axis, out=out, keepdims=keepdims)\n"
     ]
    }
   ],
   "source": [
    "# 给出数值属性的5数概括及缺失值的个数\n",
    "for i in data.columns:\n",
    "    if data[i].dtype in [ np.int64, np.float64 ] and i != 'LocationID':\n",
    "        print(data[i].name)\n",
    "        print(\"null count:{}\".format(data[i].isnull().sum()))\n",
    "        maximum=max(data[i])\n",
    "        q3=data[i].quantile(.75)\n",
    "        median=data[i].median()\n",
    "        q1=data[i].quantile(.25)\n",
    "        minimum=min(data[i])\n",
    "        print(\"max:{} q3:{} median:{} q1:{} min:{}\".format(maximum, q3, median, q1, minimum))"
   ]
  },
  {
   "cell_type": "code",
   "execution_count": 28,
   "id": "d3c2ef00",
   "metadata": {},
   "outputs": [],
   "source": [
    "# 属性Data_Value和Data_Value_Alt的值缺失69833条\n",
    "# 属性Sample_Size的值全部缺失，其5数概括没有意义"
   ]
  },
  {
   "cell_type": "code",
   "execution_count": 29,
   "id": "14d3ecbe",
   "metadata": {},
   "outputs": [
    {
     "data": {
      "text/plain": [
       "<Axes: >"
      ]
     },
     "execution_count": 29,
     "metadata": {},
     "output_type": "execute_result"
    },
    {
     "data": {
      "image/png": "[encoded data removed]",
      "text/plain": [
       "<Figure size 640x480 with 1 Axes>"
      ]
     },
     "metadata": {},
     "output_type": "display_data"
    }
   ],
   "source": [
    "## 数据可视化\n",
    "# 直方图\n",
    "data[\"YearStart\"].hist(bins=12)"
   ]
  },
  {
   "cell_type": "code",
   "execution_count": 30,
   "id": "71d9b72c",
   "metadata": {},
   "outputs": [
    {
     "data": {
      "text/plain": [
       "<Axes: >"
      ]
     },
     "execution_count": 30,
     "metadata": {},
     "output_type": "execute_result"
    },
    {
     "data": {
      "image/png": "[encoded data removed]",
      "text/plain": [
       "<Figure size 640x480 with 1 Axes>"
      ]
     },
     "metadata": {},
     "output_type": "display_data"
    }
   ],
   "source": [
    "data[\"YearEnd\"].hist(bins=12)"
   ]
  },
  {
   "cell_type": "code",
   "execution_count": 31,
   "id": "f7e0059f",
   "metadata": {},
   "outputs": [
    {
     "data": {
      "text/plain": [
       "<Axes: >"
      ]
     },
     "execution_count": 31,
     "metadata": {},
     "output_type": "execute_result"
    },
    {
     "data": {
      "image/png": "[encoded data removed]",
      "text/plain": [
       "<Figure size 640x480 with 1 Axes>"
      ]
     },
     "metadata": {},
     "output_type": "display_data"
    }
   ],
   "source": [
    "data[\"Data_Value\"].hist(bins=12)"
   ]
  },
  {
   "cell_type": "code",
   "execution_count": 32,
   "id": "d5670c8f",
   "metadata": {},
   "outputs": [
    {
     "data": {
      "text/plain": [
       "<Axes: >"
      ]
     },
     "execution_count": 32,
     "metadata": {},
     "output_type": "execute_result"
    },
    {
     "data": {
      "image/png": "[encoded data removed]",
      "text/plain": [
       "<Figure size 640x480 with 1 Axes>"
      ]
     },
     "metadata": {},
     "output_type": "display_data"
    }
   ],
   "source": [
    "data[\"Data_Value_Alt\"].hist(bins=12)"
   ]
  },
  {
   "cell_type": "code",
   "execution_count": 33,
   "id": "a14be76e",
   "metadata": {},
   "outputs": [
    {
     "data": {
      "text/plain": [
       "<Axes: >"
      ]
     },
     "execution_count": 33,
     "metadata": {},
     "output_type": "execute_result"
    },
    {
     "data": {
      "image/png": "[encoded data removed]",
      "text/plain": [
       "<Figure size 640x480 with 1 Axes>"
      ]
     },
     "metadata": {},
     "output_type": "display_data"
    }
   ],
   "source": [
    "# 盒图\n",
    "plotlist = []\n",
    "for i in data.columns:\n",
    "    if data[i].dtype in [ np.int64, np.float64 ] and i != 'LocationID':\n",
    "        plotlist.append(i)\n",
    "data[plotlist].boxplot()"
   ]
  },
  {
   "cell_type": "code",
   "execution_count": 34,
   "id": "7992648d",
   "metadata": {},
   "outputs": [
    {
     "name": "stdout",
     "output_type": "stream",
     "text": [
      "YearStart\n",
      "        YearStart  YearEnd LocationAbbr LocationDesc Datasource  \\\n",
      "0            2020     2020           HI       Hawaii      BRFSS   \n",
      "1            2017     2017           ID        Idaho      BRFSS   \n",
      "2            2017     2017           ID        Idaho      BRFSS   \n",
      "3            2018     2018           ID        Idaho      BRFSS   \n",
      "4            2020     2020           IN      Indiana      BRFSS   \n",
      "...           ...      ...          ...          ...        ...   \n",
      "214457       2016     2016           WY      Wyoming      BRFSS   \n",
      "214458       2015     2015           WY      Wyoming      BRFSS   \n",
      "214459       2017     2017           WY      Wyoming      BRFSS   \n",
      "214460       2016     2016           WY      Wyoming      BRFSS   \n",
      "214461       2018     2018           WY      Wyoming      BRFSS   \n",
      "\n",
      "                          Class  \\\n",
      "0                Overall Health   \n",
      "1                 Mental Health   \n",
      "2                Overall Health   \n",
      "3                Overall Health   \n",
      "4                 Mental Health   \n",
      "...                         ...   \n",
      "214457           Overall Health   \n",
      "214458  Smoking and Alcohol Use   \n",
      "214459           Overall Health   \n",
      "214460           Overall Health   \n",
      "214461  Smoking and Alcohol Use   \n",
      "\n",
      "                                                  Topic  \\\n",
      "0                          Arthritis among older adults   \n",
      "1                      Lifetime diagnosis of depression   \n",
      "2                          Arthritis among older adults   \n",
      "3       Physically unhealthy days (mean number of days)   \n",
      "4                      Lifetime diagnosis of depression   \n",
      "...                                                 ...   \n",
      "214457  Physically unhealthy days (mean number of days)   \n",
      "214458                                  Current smoking   \n",
      "214459          Self-rated health (fair to poor health)   \n",
      "214460                Fall with injury within last year   \n",
      "214461               Binge drinking within past 30 days   \n",
      "\n",
      "                                                 Question Data_Value_Unit  \\\n",
      "0       Percentage of older adults ever told they have...               %   \n",
      "1       Percentage of older adults with a lifetime dia...               %   \n",
      "2       Percentage of older adults ever told they have...               %   \n",
      "3       Physically unhealthy days (mean number of days...          Number   \n",
      "4       Percentage of older adults with a lifetime dia...               %   \n",
      "...                                                   ...             ...   \n",
      "214457  Physically unhealthy days (mean number of days...          Number   \n",
      "214458  Percentage of older adults who have smoked at ...               %   \n",
      "214459  Percentage of older adults who self-reported t...               %   \n",
      "214460  Percentage of older adults who have fallen and...               %   \n",
      "214461  Percentage of older adults who reported binge ...               %   \n",
      "\n",
      "       DataValueTypeID  ...           Stratification2  \\\n",
      "0                PRCTG  ...                       NaN   \n",
      "1                PRCTG  ...                       NaN   \n",
      "2                PRCTG  ...                       NaN   \n",
      "3                 MEAN  ...                       NaN   \n",
      "4                PRCTG  ...                      Male   \n",
      "...                ...  ...                       ...   \n",
      "214457            MEAN  ...       Black, non-Hispanic   \n",
      "214458           PRCTG  ...    Asian/Pacific Islander   \n",
      "214459           PRCTG  ...  Native Am/Alaskan Native   \n",
      "214460           PRCTG  ...                       NaN   \n",
      "214461           PRCTG  ...       Black, non-Hispanic   \n",
      "\n",
      "                             Geolocation  ClassID TopicID QuestionID  \\\n",
      "0       POINT (-157.8577494 21.30485044)      C01   TOC11        Q43   \n",
      "1         POINT (-114.36373 43.68263001)      C05   TMC03        Q27   \n",
      "2         POINT (-114.36373 43.68263001)      C01   TOC11        Q43   \n",
      "3         POINT (-114.36373 43.68263001)      C01   TOC01        Q08   \n",
      "4       POINT (-86.14996019 39.76691045)      C05   TMC03        Q27   \n",
      "...                                  ...      ...     ...        ...   \n",
      "214457  POINT (-108.1098304 43.23554134)      C01   TOC01        Q08   \n",
      "214458  POINT (-108.1098304 43.23554134)      C04   TAC01        Q17   \n",
      "214459  POINT (-108.1098304 43.23554134)      C01   TOC07        Q32   \n",
      "214460  POINT (-108.1098304 43.23554134)      C01   TOC06        Q05   \n",
      "214461  POINT (-108.1098304 43.23554134)      C04   TAC03        Q21   \n",
      "\n",
      "        LocationID StratificationCategoryID1 StratificationID1  \\\n",
      "0               15                       AGE              5064   \n",
      "1               16                       AGE              5064   \n",
      "2               16                       AGE              5064   \n",
      "3               16                       AGE              5064   \n",
      "4               18                       AGE       AGE_OVERALL   \n",
      "...            ...                       ...               ...   \n",
      "214457          56                       AGE              5064   \n",
      "214458          56                       AGE            65PLUS   \n",
      "214459          56                       AGE       AGE_OVERALL   \n",
      "214460          56                       AGE              5064   \n",
      "214461          56                       AGE            65PLUS   \n",
      "\n",
      "       StratificationCategoryID2 StratificationID2  \n",
      "0                        OVERALL           OVERALL  \n",
      "1                        OVERALL           OVERALL  \n",
      "2                        OVERALL           OVERALL  \n",
      "3                        OVERALL           OVERALL  \n",
      "4                         GENDER              MALE  \n",
      "...                          ...               ...  \n",
      "214457                      RACE               BLK  \n",
      "214458                      RACE               ASN  \n",
      "214459                      RACE               NAA  \n",
      "214460                   OVERALL           OVERALL  \n",
      "214461                      RACE               BLK  \n",
      "\n",
      "[214462 rows x 29 columns]\n",
      "YearEnd\n",
      "        YearStart  YearEnd LocationAbbr LocationDesc Datasource  \\\n",
      "0            2020     2020           HI       Hawaii      BRFSS   \n",
      "1            2017     2017           ID        Idaho      BRFSS   \n",
      "2            2017     2017           ID        Idaho      BRFSS   \n",
      "3            2018     2018           ID        Idaho      BRFSS   \n",
      "4            2020     2020           IN      Indiana      BRFSS   \n",
      "...           ...      ...          ...          ...        ...   \n",
      "214457       2016     2016           WY      Wyoming      BRFSS   \n",
      "214458       2015     2015           WY      Wyoming      BRFSS   \n",
      "214459       2017     2017           WY      Wyoming      BRFSS   \n",
      "214460       2016     2016           WY      Wyoming      BRFSS   \n",
      "214461       2018     2018           WY      Wyoming      BRFSS   \n",
      "\n",
      "                          Class  \\\n",
      "0                Overall Health   \n",
      "1                 Mental Health   \n",
      "2                Overall Health   \n",
      "3                Overall Health   \n",
      "4                 Mental Health   \n",
      "...                         ...   \n",
      "214457           Overall Health   \n",
      "214458  Smoking and Alcohol Use   \n",
      "214459           Overall Health   \n",
      "214460           Overall Health   \n",
      "214461  Smoking and Alcohol Use   \n",
      "\n",
      "                                                  Topic  \\\n",
      "0                          Arthritis among older adults   \n",
      "1                      Lifetime diagnosis of depression   \n",
      "2                          Arthritis among older adults   \n",
      "3       Physically unhealthy days (mean number of days)   \n",
      "4                      Lifetime diagnosis of depression   \n",
      "...                                                 ...   \n",
      "214457  Physically unhealthy days (mean number of days)   \n",
      "214458                                  Current smoking   \n",
      "214459          Self-rated health (fair to poor health)   \n",
      "214460                Fall with injury within last year   \n",
      "214461               Binge drinking within past 30 days   \n",
      "\n",
      "                                                 Question Data_Value_Unit  \\\n",
      "0       Percentage of older adults ever told they have...               %   \n",
      "1       Percentage of older adults with a lifetime dia...               %   \n",
      "2       Percentage of older adults ever told they have...               %   \n",
      "3       Physically unhealthy days (mean number of days...          Number   \n",
      "4       Percentage of older adults with a lifetime dia...               %   \n",
      "...                                                   ...             ...   \n",
      "214457  Physically unhealthy days (mean number of days...          Number   \n",
      "214458  Percentage of older adults who have smoked at ...               %   \n",
      "214459  Percentage of older adults who self-reported t...               %   \n",
      "214460  Percentage of older adults who have fallen and...               %   \n",
      "214461  Percentage of older adults who reported binge ...               %   \n",
      "\n",
      "       DataValueTypeID  ...           Stratification2  \\\n",
      "0                PRCTG  ...                       NaN   \n",
      "1                PRCTG  ...                       NaN   \n",
      "2                PRCTG  ...                       NaN   \n",
      "3                 MEAN  ...                       NaN   \n",
      "4                PRCTG  ...                      Male   \n",
      "...                ...  ...                       ...   \n",
      "214457            MEAN  ...       Black, non-Hispanic   \n",
      "214458           PRCTG  ...    Asian/Pacific Islander   \n",
      "214459           PRCTG  ...  Native Am/Alaskan Native   \n",
      "214460           PRCTG  ...                       NaN   \n",
      "214461           PRCTG  ...       Black, non-Hispanic   \n",
      "\n",
      "                             Geolocation  ClassID TopicID QuestionID  \\\n",
      "0       POINT (-157.8577494 21.30485044)      C01   TOC11        Q43   \n",
      "1         POINT (-114.36373 43.68263001)      C05   TMC03        Q27   \n",
      "2         POINT (-114.36373 43.68263001)      C01   TOC11        Q43   \n",
      "3         POINT (-114.36373 43.68263001)      C01   TOC01        Q08   \n",
      "4       POINT (-86.14996019 39.76691045)      C05   TMC03        Q27   \n",
      "...                                  ...      ...     ...        ...   \n",
      "214457  POINT (-108.1098304 43.23554134)      C01   TOC01        Q08   \n",
      "214458  POINT (-108.1098304 43.23554134)      C04   TAC01        Q17   \n",
      "214459  POINT (-108.1098304 43.23554134)      C01   TOC07        Q32   \n",
      "214460  POINT (-108.1098304 43.23554134)      C01   TOC06        Q05   \n",
      "214461  POINT (-108.1098304 43.23554134)      C04   TAC03        Q21   \n",
      "\n",
      "        LocationID StratificationCategoryID1 StratificationID1  \\\n",
      "0               15                       AGE              5064   \n",
      "1               16                       AGE              5064   \n",
      "2               16                       AGE              5064   \n",
      "3               16                       AGE              5064   \n",
      "4               18                       AGE       AGE_OVERALL   \n",
      "...            ...                       ...               ...   \n",
      "214457          56                       AGE              5064   \n",
      "214458          56                       AGE            65PLUS   \n",
      "214459          56                       AGE       AGE_OVERALL   \n",
      "214460          56                       AGE              5064   \n",
      "214461          56                       AGE            65PLUS   \n",
      "\n",
      "       StratificationCategoryID2 StratificationID2  \n",
      "0                        OVERALL           OVERALL  \n",
      "1                        OVERALL           OVERALL  \n",
      "2                        OVERALL           OVERALL  \n",
      "3                        OVERALL           OVERALL  \n",
      "4                         GENDER              MALE  \n",
      "...                          ...               ...  \n",
      "214457                      RACE               BLK  \n",
      "214458                      RACE               ASN  \n",
      "214459                      RACE               NAA  \n",
      "214460                   OVERALL           OVERALL  \n",
      "214461                      RACE               BLK  \n",
      "\n",
      "[214462 rows x 29 columns]\n",
      "Data_Value\n",
      "        YearStart  YearEnd LocationAbbr LocationDesc Datasource  \\\n",
      "0            2020     2020           HI       Hawaii      BRFSS   \n",
      "1            2017     2017           ID        Idaho      BRFSS   \n",
      "2            2017     2017           ID        Idaho      BRFSS   \n",
      "3            2018     2018           ID        Idaho      BRFSS   \n",
      "4            2020     2020           IN      Indiana      BRFSS   \n",
      "...           ...      ...          ...          ...        ...   \n",
      "214449       2019     2019           WY      Wyoming      BRFSS   \n",
      "214451       2015     2020           WY      Wyoming      BRFSS   \n",
      "214454       2015     2015           WY      Wyoming      BRFSS   \n",
      "214455       2015     2020           WY      Wyoming      BRFSS   \n",
      "214460       2016     2016           WY      Wyoming      BRFSS   \n",
      "\n",
      "                    Class                                              Topic  \\\n",
      "0          Overall Health                       Arthritis among older adults   \n",
      "1           Mental Health                   Lifetime diagnosis of depression   \n",
      "2          Overall Health                       Arthritis among older adults   \n",
      "3          Overall Health    Physically unhealthy days (mean number of days)   \n",
      "4           Mental Health                   Lifetime diagnosis of depression   \n",
      "...                   ...                                                ...   \n",
      "214449     Overall Health    Physically unhealthy days (mean number of days)   \n",
      "214451         Caregiving  Provide care for someone with cognitive impair...   \n",
      "214454  Cognitive Decline  Need assistance with day-to-day activities bec...   \n",
      "214455  Cognitive Decline  Need assistance with day-to-day activities bec...   \n",
      "214460     Overall Health                  Fall with injury within last year   \n",
      "\n",
      "                                                 Question Data_Value_Unit  \\\n",
      "0       Percentage of older adults ever told they have...               %   \n",
      "1       Percentage of older adults with a lifetime dia...               %   \n",
      "2       Percentage of older adults ever told they have...               %   \n",
      "3       Physically unhealthy days (mean number of days...          Number   \n",
      "4       Percentage of older adults with a lifetime dia...               %   \n",
      "...                                                   ...             ...   \n",
      "214449  Physically unhealthy days (mean number of days...          Number   \n",
      "214451  Percentage of older adults who provided care f...               %   \n",
      "214454  Percentage of older adults who reported that a...               %   \n",
      "214455  Percentage of older adults who reported that a...               %   \n",
      "214460  Percentage of older adults who have fallen and...               %   \n",
      "\n",
      "       DataValueTypeID  ... Stratification2                       Geolocation  \\\n",
      "0                PRCTG  ...             NaN  POINT (-157.8577494 21.30485044)   \n",
      "1                PRCTG  ...             NaN    POINT (-114.36373 43.68263001)   \n",
      "2                PRCTG  ...             NaN    POINT (-114.36373 43.68263001)   \n",
      "3                 MEAN  ...             NaN    POINT (-114.36373 43.68263001)   \n",
      "4                PRCTG  ...            Male  POINT (-86.14996019 39.76691045)   \n",
      "...                ...  ...             ...                               ...   \n",
      "214449            MEAN  ...          Female  POINT (-108.1098304 43.23554134)   \n",
      "214451           PRCTG  ...             NaN  POINT (-108.1098304 43.23554134)   \n",
      "214454           PRCTG  ...            Male  POINT (-108.1098304 43.23554134)   \n",
      "214455           PRCTG  ...             NaN  POINT (-108.1098304 43.23554134)   \n",
      "214460           PRCTG  ...             NaN  POINT (-108.1098304 43.23554134)   \n",
      "\n",
      "        ClassID TopicID QuestionID  LocationID StratificationCategoryID1  \\\n",
      "0           C01   TOC11        Q43          15                       AGE   \n",
      "1           C05   TMC03        Q27          16                       AGE   \n",
      "2           C01   TOC11        Q43          16                       AGE   \n",
      "3           C01   TOC01        Q08          16                       AGE   \n",
      "4           C05   TMC03        Q27          18                       AGE   \n",
      "...         ...     ...        ...         ...                       ...   \n",
      "214449      C01   TOC01        Q08          56                       AGE   \n",
      "214451      C07   TGC05        Q40          56                       AGE   \n",
      "214454      C06   TCC03        Q41          56                       AGE   \n",
      "214455      C06   TCC03        Q41          56                       AGE   \n",
      "214460      C01   TOC06        Q05          56                       AGE   \n",
      "\n",
      "       StratificationID1 StratificationCategoryID2 StratificationID2  \n",
      "0                   5064                   OVERALL           OVERALL  \n",
      "1                   5064                   OVERALL           OVERALL  \n",
      "2                   5064                   OVERALL           OVERALL  \n",
      "3                   5064                   OVERALL           OVERALL  \n",
      "4            AGE_OVERALL                    GENDER              MALE  \n",
      "...                  ...                       ...               ...  \n",
      "214449            65PLUS                    GENDER            FEMALE  \n",
      "214451       AGE_OVERALL                   OVERALL           OVERALL  \n",
      "214454              5064                    GENDER              MALE  \n",
      "214455            65PLUS                   OVERALL           OVERALL  \n",
      "214460              5064                   OVERALL           OVERALL  \n",
      "\n",
      "[133078 rows x 29 columns]\n",
      "Data_Value_Alt\n",
      "        YearStart  YearEnd LocationAbbr LocationDesc Datasource  \\\n",
      "0            2020     2020           HI       Hawaii      BRFSS   \n",
      "1            2017     2017           ID        Idaho      BRFSS   \n",
      "2            2017     2017           ID        Idaho      BRFSS   \n",
      "3            2018     2018           ID        Idaho      BRFSS   \n",
      "4            2020     2020           IN      Indiana      BRFSS   \n",
      "...           ...      ...          ...          ...        ...   \n",
      "214449       2019     2019           WY      Wyoming      BRFSS   \n",
      "214451       2015     2020           WY      Wyoming      BRFSS   \n",
      "214454       2015     2015           WY      Wyoming      BRFSS   \n",
      "214455       2015     2020           WY      Wyoming      BRFSS   \n",
      "214460       2016     2016           WY      Wyoming      BRFSS   \n",
      "\n",
      "                    Class                                              Topic  \\\n",
      "0          Overall Health                       Arthritis among older adults   \n",
      "1           Mental Health                   Lifetime diagnosis of depression   \n",
      "2          Overall Health                       Arthritis among older adults   \n",
      "3          Overall Health    Physically unhealthy days (mean number of days)   \n",
      "4           Mental Health                   Lifetime diagnosis of depression   \n",
      "...                   ...                                                ...   \n",
      "214449     Overall Health    Physically unhealthy days (mean number of days)   \n",
      "214451         Caregiving  Provide care for someone with cognitive impair...   \n",
      "214454  Cognitive Decline  Need assistance with day-to-day activities bec...   \n",
      "214455  Cognitive Decline  Need assistance with day-to-day activities bec...   \n",
      "214460     Overall Health                  Fall with injury within last year   \n",
      "\n",
      "                                                 Question Data_Value_Unit  \\\n",
      "0       Percentage of older adults ever told they have...               %   \n",
      "1       Percentage of older adults with a lifetime dia...               %   \n",
      "2       Percentage of older adults ever told they have...               %   \n",
      "3       Physically unhealthy days (mean number of days...          Number   \n",
      "4       Percentage of older adults with a lifetime dia...               %   \n",
      "...                                                   ...             ...   \n",
      "214449  Physically unhealthy days (mean number of days...          Number   \n",
      "214451  Percentage of older adults who provided care f...               %   \n",
      "214454  Percentage of older adults who reported that a...               %   \n",
      "214455  Percentage of older adults who reported that a...               %   \n",
      "214460  Percentage of older adults who have fallen and...               %   \n",
      "\n",
      "       DataValueTypeID  ... Stratification2                       Geolocation  \\\n",
      "0                PRCTG  ...             NaN  POINT (-157.8577494 21.30485044)   \n",
      "1                PRCTG  ...             NaN    POINT (-114.36373 43.68263001)   \n",
      "2                PRCTG  ...             NaN    POINT (-114.36373 43.68263001)   \n",
      "3                 MEAN  ...             NaN    POINT (-114.36373 43.68263001)   \n",
      "4                PRCTG  ...            Male  POINT (-86.14996019 39.76691045)   \n",
      "...                ...  ...             ...                               ...   \n",
      "214449            MEAN  ...          Female  POINT (-108.1098304 43.23554134)   \n",
      "214451           PRCTG  ...             NaN  POINT (-108.1098304 43.23554134)   \n",
      "214454           PRCTG  ...            Male  POINT (-108.1098304 43.23554134)   \n",
      "214455           PRCTG  ...             NaN  POINT (-108.1098304 43.23554134)   \n",
      "214460           PRCTG  ...             NaN  POINT (-108.1098304 43.23554134)   \n",
      "\n",
      "        ClassID TopicID QuestionID  LocationID StratificationCategoryID1  \\\n",
      "0           C01   TOC11        Q43          15                       AGE   \n",
      "1           C05   TMC03        Q27          16                       AGE   \n",
      "2           C01   TOC11        Q43          16                       AGE   \n",
      "3           C01   TOC01        Q08          16                       AGE   \n",
      "4           C05   TMC03        Q27          18                       AGE   \n",
      "...         ...     ...        ...         ...                       ...   \n",
      "214449      C01   TOC01        Q08          56                       AGE   \n",
      "214451      C07   TGC05        Q40          56                       AGE   \n",
      "214454      C06   TCC03        Q41          56                       AGE   \n",
      "214455      C06   TCC03        Q41          56                       AGE   \n",
      "214460      C01   TOC06        Q05          56                       AGE   \n",
      "\n",
      "       StratificationID1 StratificationCategoryID2 StratificationID2  \n",
      "0                   5064                   OVERALL           OVERALL  \n",
      "1                   5064                   OVERALL           OVERALL  \n",
      "2                   5064                   OVERALL           OVERALL  \n",
      "3                   5064                   OVERALL           OVERALL  \n",
      "4            AGE_OVERALL                    GENDER              MALE  \n",
      "...                  ...                       ...               ...  \n",
      "214449            65PLUS                    GENDER            FEMALE  \n",
      "214451       AGE_OVERALL                   OVERALL           OVERALL  \n",
      "214454              5064                    GENDER              MALE  \n",
      "214455            65PLUS                   OVERALL           OVERALL  \n",
      "214460              5064                   OVERALL           OVERALL  \n",
      "\n",
      "[133078 rows x 29 columns]\n",
      "Sample_Size\n",
      "Empty DataFrame\n",
      "Columns: [YearStart, YearEnd, LocationAbbr, LocationDesc, Datasource, Class, Topic, Question, Data_Value_Unit, DataValueTypeID, Data_Value_Type, Data_Value, Data_Value_Alt, Low_Confidence_Limit, High_Confidence_Limit, Sample_Size, StratificationCategory1, Stratification1, StratificationCategory2, Stratification2, Geolocation, ClassID, TopicID, QuestionID, LocationID, StratificationCategoryID1, StratificationID1, StratificationCategoryID2, StratificationID2]\n",
      "Index: []\n",
      "\n",
      "[0 rows x 29 columns]\n"
     ]
    }
   ],
   "source": [
    "# 离群点\n",
    "for i in data.columns:\n",
    "    if data[i].dtype in [ np.int64, np.float64 ] and i != 'LocationID':\n",
    "        print(data[i].name)\n",
    "        q1, q3 = data[i].quantile([0.25, 0.75])\n",
    "        iqr = q3 - q1\n",
    "        outlier = data[(data[i] > q3 + iqr * 1.5) | (data[i] < q1 + iqr * 1.5)]\n",
    "        print(outlier)"
   ]
  },
  {
   "cell_type": "code",
   "execution_count": 35,
   "id": "d4b7fc88",
   "metadata": {},
   "outputs": [
    {
     "name": "stdout",
     "output_type": "stream",
     "text": [
      "YearStart\n",
      "null count:0\n",
      "YearEnd\n",
      "null count:0\n",
      "LocationAbbr\n",
      "null count:0\n",
      "LocationDesc\n",
      "null count:0\n",
      "Datasource\n",
      "null count:0\n",
      "Class\n",
      "null count:0\n",
      "Topic\n",
      "null count:0\n",
      "Question\n",
      "null count:0\n",
      "Data_Value_Unit\n",
      "null count:0\n",
      "DataValueTypeID\n",
      "null count:0\n",
      "Data_Value_Type\n",
      "null count:0\n",
      "Data_Value\n",
      "null count:69833\n",
      "Data_Value_Alt\n",
      "null count:69833\n",
      "Low_Confidence_Limit\n",
      "null count:69990\n",
      "High_Confidence_Limit\n",
      "null count:69990\n",
      "Sample_Size\n",
      "null count:214462\n",
      "StratificationCategory1\n",
      "null count:0\n",
      "Stratification1\n",
      "null count:0\n",
      "StratificationCategory2\n",
      "null count:27669\n",
      "Stratification2\n",
      "null count:27669\n",
      "Geolocation\n",
      "null count:23049\n",
      "ClassID\n",
      "null count:0\n",
      "TopicID\n",
      "null count:0\n",
      "QuestionID\n",
      "null count:0\n",
      "LocationID\n",
      "null count:0\n",
      "StratificationCategoryID1\n",
      "null count:0\n",
      "StratificationID1\n",
      "null count:0\n",
      "StratificationCategoryID2\n",
      "null count:0\n",
      "StratificationID2\n",
      "null count:0\n"
     ]
    }
   ],
   "source": [
    "## 数据缺失的处理\n",
    "for i in data.columns:\n",
    "    print(data[i].name)\n",
    "    print(\"null count:{}\".format(data[i].isnull().sum()))"
   ]
  },
  {
   "cell_type": "code",
   "execution_count": 36,
   "id": "d7241725",
   "metadata": {},
   "outputs": [],
   "source": [
    "# 有缺失值的属性为Data_Value，Data_Value_Alt，Low_Confidence_Limit，StratificationCategory2, Stratification2和Geolocation\n",
    "# 缺失原因分析同上个数据集"
   ]
  },
  {
   "cell_type": "code",
   "execution_count": 37,
   "id": "7d99b87b",
   "metadata": {},
   "outputs": [
    {
     "data": {
      "text/plain": [
       "<Axes: >"
      ]
     },
     "execution_count": 37,
     "metadata": {},
     "output_type": "execute_result"
    },
    {
     "data": {
      "image/png": "[encoded data removed]",
      "text/plain": [
       "<Figure size 640x480 with 1 Axes>"
      ]
     },
     "metadata": {},
     "output_type": "display_data"
    }
   ],
   "source": [
    "# 以数值属性Data_Value为例，分别使用四种策略对缺失值进行处理，并在处理完成后对比新旧数据集的差异\n",
    "# 将缺失部分剔除\n",
    "data_copy = data\n",
    "data.dropna()\n",
    "data[\"Data_Value\"].hist(bins=12)"
   ]
  },
  {
   "cell_type": "code",
   "execution_count": 38,
   "id": "97361e89",
   "metadata": {},
   "outputs": [
    {
     "data": {
      "text/plain": [
       "<Axes: >"
      ]
     },
     "execution_count": 38,
     "metadata": {},
     "output_type": "execute_result"
    },
    {
     "data": {
      "image/png": "[encoded data removed]",
      "text/plain": [
       "<Figure size 640x480 with 1 Axes>"
      ]
     },
     "metadata": {},
     "output_type": "display_data"
    }
   ],
   "source": [
    "data[[\"Data_Value\"]].boxplot()"
   ]
  },
  {
   "cell_type": "code",
   "execution_count": 39,
   "id": "ee0e3372",
   "metadata": {},
   "outputs": [
    {
     "data": {
      "text/plain": [
       "<Axes: >"
      ]
     },
     "execution_count": 39,
     "metadata": {},
     "output_type": "execute_result"
    },
    {
     "data": {
      "image/png": "[encoded data removed]",
      "text/plain": [
       "<Figure size 640x480 with 1 Axes>"
      ]
     },
     "metadata": {},
     "output_type": "display_data"
    }
   ],
   "source": [
    "# 用最高频率值来填补缺失值\n",
    "data = data_copy\n",
    "for i in data.columns:\n",
    "    data[i].fillna(data[i].mode())\n",
    "data[\"Data_Value\"].hist(bins=12)"
   ]
  },
  {
   "cell_type": "code",
   "execution_count": 40,
   "id": "6ed67449",
   "metadata": {},
   "outputs": [
    {
     "data": {
      "text/plain": [
       "<Axes: >"
      ]
     },
     "execution_count": 40,
     "metadata": {},
     "output_type": "execute_result"
    },
    {
     "data": {
      "image/png": "[encoded data removed]",
      "text/plain": [
       "<Figure size 640x480 with 1 Axes>"
      ]
     },
     "metadata": {},
     "output_type": "display_data"
    }
   ],
   "source": [
    "data[[\"Data_Value\"]].boxplot()"
   ]
  },
  {
   "cell_type": "code",
   "execution_count": 41,
   "id": "39249cc5",
   "metadata": {},
   "outputs": [
    {
     "name": "stderr",
     "output_type": "stream",
     "text": [
      "C:\\Users\\WhiteLoli\\AppData\\Local\\Temp\\ipykernel_6640\\654072820.py:3: FutureWarning: DataFrame.interpolate with object dtype is deprecated and will raise in a future version. Call obj.infer_objects(copy=False) before interpolating instead.\n",
      "  data.interpolate(\"nearest\")\n"
     ]
    },
    {
     "data": {
      "text/plain": [
       "<Axes: >"
      ]
     },
     "execution_count": 41,
     "metadata": {},
     "output_type": "execute_result"
    },
    {
     "data": {
      "image/png": "[encoded data removed]",
      "text/plain": [
       "<Figure size 640x480 with 1 Axes>"
      ]
     },
     "metadata": {},
     "output_type": "display_data"
    }
   ],
   "source": [
    "# 通过属性的相关关系来填补缺失值\n",
    "data = data_copy\n",
    "data.interpolate(\"nearest\")\n",
    "data[\"Data_Value\"].hist(bins=12)"
   ]
  },
  {
   "cell_type": "code",
   "execution_count": 42,
   "id": "773349c7",
   "metadata": {},
   "outputs": [
    {
     "data": {
      "text/plain": [
       "<Axes: >"
      ]
     },
     "execution_count": 42,
     "metadata": {},
     "output_type": "execute_result"
    },
    {
     "data": {
      "image/png": "[encoded data removed]",
      "text/plain": [
       "<Figure size 640x480 with 1 Axes>"
      ]
     },
     "metadata": {},
     "output_type": "display_data"
    }
   ],
   "source": [
    "data[[\"Data_Value\"]].boxplot()"
   ]
  },
  {
   "cell_type": "code",
   "execution_count": 43,
   "id": "2f3316ad",
   "metadata": {},
   "outputs": [
    {
     "name": "stderr",
     "output_type": "stream",
     "text": [
      "C:\\Users\\WhiteLoli\\AppData\\Local\\Temp\\ipykernel_6640\\3982632327.py:3: FutureWarning: DataFrame.interpolate with object dtype is deprecated and will raise in a future version. Call obj.infer_objects(copy=False) before interpolating instead.\n",
      "  data.interpolate(\"nearest\")\n"
     ]
    },
    {
     "data": {
      "text/plain": [
       "<Axes: >"
      ]
     },
     "execution_count": 43,
     "metadata": {},
     "output_type": "execute_result"
    },
    {
     "data": {
      "image/png": "[encoded data removed]",
      "text/plain": [
       "<Figure size 640x480 with 1 Axes>"
      ]
     },
     "metadata": {},
     "output_type": "display_data"
    }
   ],
   "source": [
    "# 通过数据对象之间的相似性来填补缺失值\n",
    "data = data_copy\n",
    "x_train = data[~data[\"Data_Value\"].isnull()][[\"LocationID\"]]\n",
    "y_train = data[~data[\"Data_Value\"].isnull()][\"Data_Value\"]\n",
    "test = data[data[\"Data_Value\"].isnull()][[\"LocationID\"]]\n",
    "\n",
    "index, pred = knn_filled_func(x_train, y_train, test, k = 3, dispersed = True)\n",
    "\n",
    "data.loc[index, \"Data_Value\"] = pred\n",
    "data[\"Data_Value\"].hist(bins=12)"
   ]
  },
  {
   "cell_type": "code",
   "execution_count": 44,
   "id": "e5861f9b",
   "metadata": {},
   "outputs": [
    {
     "data": {
      "text/plain": [
       "<Axes: >"
      ]
     },
     "execution_count": 44,
     "metadata": {},
     "output_type": "execute_result"
    },
    {
     "data": {
      "image/png": "[encoded data removed]",
      "text/plain": [
       "<Figure size 640x480 with 1 Axes>"
      ]
     },
     "metadata": {},
     "output_type": "display_data"
    }
   ],
   "source": [
    "data[[\"Data_Value\"]].boxplot()"
   ]
  }
 ],
 "metadata": {
  "kernelspec": {
   "display_name": "Python 3 (ipykernel)",
   "language": "python",
   "name": "python3"
  },
  "language_info": {
   "codemirror_mode": {
    "name": "ipython",
    "version": 3
   },
   "file_extension": ".py",
   "mimetype": "text/x-python",
   "name": "python",
   "nbconvert_exporter": "python",
   "pygments_lexer": "ipython3",
   "version": "3.9.7"
  }
 },
 "nbformat": 4,
 "nbformat_minor": 5
}
